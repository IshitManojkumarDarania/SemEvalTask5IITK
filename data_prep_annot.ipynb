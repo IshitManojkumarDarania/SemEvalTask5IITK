{
 "cells": [
  {
   "cell_type": "code",
   "execution_count": 1,
   "metadata": {},
   "outputs": [],
   "source": [
    "import pandas as pd\n",
    "import re\n",
    "from transformers import GPT2LMHeadModel, GPT2Tokenizer, TextDataset, DataCollatorForLanguageModeling, Trainer, TrainingArguments"
   ]
  },
  {
   "cell_type": "code",
   "execution_count": 2,
   "metadata": {},
   "outputs": [],
   "source": [
    "def filter_text(text):\n",
    "    # Remove non-alphanumeric characters using regex and convert to lowercase\n",
    "    filtered_text = re.sub(r'[^a-zA-Z0-9 ]', '', text).lower()\n",
    "    return filtered_text\n"
   ]
  },
  {
   "cell_type": "code",
   "execution_count": 5,
   "metadata": {},
   "outputs": [],
   "source": [
    "df = pd.read_csv(\"../Dataset/dataset_semeval24_traindev/train.csv\")"
   ]
  },
  {
   "cell_type": "code",
   "execution_count": 6,
   "metadata": {},
   "outputs": [],
   "source": [
    "txt = df['explanation'].values.tolist()[0]"
   ]
  },
  {
   "cell_type": "code",
   "execution_count": 7,
   "metadata": {},
   "outputs": [
    {
     "data": {
      "text/plain": [
       "'Venue in most federal actions is governed by 28 U.S.C. §1391(b), which provides: (b) Venue in general. A civil action may be brought in— (1) a judicial district in which any defendant resides, if all defendants are residents of the State in which the district is located; (2) a judicial district in which a substantial part of the events or omissions giving rise to the claim occurred, or a substantial part of property that is the subject of the action is situated; or (3) if there is no district in which an action may otherwise be brought as provided in this section, a judicial district in which any defendant is subject to the court’s personal jurisdiction with respect to such action. Note that subsections 1 and 2 are alternatives. Venue is proper in a district where either a defendant resides (if they are all residents of the state where the action is brought) or a district in which a substantial part of the events giving rise to the claim took place. Section 1391(b)(3) is a ‘‘fallback’’ venue provision that is only available in unusual circumstances: when there is no district, anywhere in the United States, where venue would be proper under subsection (b)(1) or (b)(2). If the defendants all reside in the state where suit is brought, or if a substantial part of the events giving rise to the claim occurred in some federal judicial district, or if property that is the subject of the action is found in a district, §1391(b)(3) cannot apply, because there will be at least one district in which venue is proper under §1391(b)(1) or (b)(2). Note also that there is a nasty proviso in 28 U.S.C. §1391(a) that poses a trap for the unwary: The first sentence of that subsection provides that the venue options in §1391(b) apply ‘‘except as otherwise provided by law.’’ Section 1391 is a general venue statute that applies unless there is a special venue statute for the type of claim the plaintiff brings. The United States Code has many specialized venue provisions for particular types of actions. See, e.g., 28 U.S.C. §1402 (tort action against the United States must be brought in the district where the plaintiff resides or wherein the act or omission complained of occurred). If there is a special venue statute for a particular type of claim, it may be interpreted as displacing the general venue choices in §1391(b)—that is, as providing alternative, exclusive venue choices for such claims—or as providing additional venue choices for those claims, along with those in §1391(b). See generally, Wright & Miller §3803. To sort out the basics of §1391(b), try the following question. Assume for all examples in the chapter that no special venue statute applies. In answering these questions, please do refer to the venue statutes. Once again, my questions are based on the assumption that you have the Federal Rules book available, so you can refer to relevant statutes and rules, rather than memorizing them. I want to test my students’ ability to apply provisions like the venue statutes or Federal Rules, rather than their memory of them. Needless to say, you should find out your professor’s policy on bringing materials into the exam before you prepare for it. If she doesn’t allow you to refer to the rules book, you obviously need to spend more time memorizing statutes and rules.'"
      ]
     },
     "execution_count": 7,
     "metadata": {},
     "output_type": "execute_result"
    }
   ],
   "source": [
    "txt"
   ]
  },
  {
   "cell_type": "code",
   "execution_count": 3,
   "metadata": {},
   "outputs": [
    {
     "name": "stderr",
     "output_type": "stream",
     "text": [
      "Some weights of PegasusForConditionalGeneration were not initialized from the model checkpoint at google/pegasus-cnn_dailymail and are newly initialized: ['model.encoder.embed_positions.weight', 'model.decoder.embed_positions.weight']\n",
      "You should probably TRAIN this model on a down-stream task to be able to use it for predictions and inference.\n"
     ]
    }
   ],
   "source": [
    "from transformers import PegasusForConditionalGeneration, AutoTokenizer\n",
    "import torch\n",
    "\n",
    "# You can chose models from following list\n",
    "# https://huggingface.co/models?sort=downloads&search=google%2Fpegasus\n",
    "model_name_sum = 'google/pegasus-cnn_dailymail'\n",
    "device_sum = 'mps'\n",
    "tokenizer_sum = AutoTokenizer.from_pretrained(model_name_sum)\n",
    "model_sum = PegasusForConditionalGeneration.from_pretrained(model_name_sum).to(device_sum)"
   ]
  },
  {
   "cell_type": "code",
   "execution_count": 4,
   "metadata": {},
   "outputs": [],
   "source": [
    "def generate_summary(txt, model, tokenizer, device):\n",
    "    batch = tokenizer(txt, truncation=True, padding='longest', return_tensors=\"pt\").to(device)\n",
    "    translated = model.generate(**batch)\n",
    "    tgt_text = tokenizer.batch_decode(translated, skip_special_tokens=True)\n",
    "\n",
    "    return tgt_text[0]"
   ]
  },
  {
   "cell_type": "code",
   "execution_count": 10,
   "metadata": {},
   "outputs": [
    {
     "data": {
      "text/plain": [
       "'Venue in most federal actions is governed by 28 U.S.C. 1391(b)<n>Venue is proper in a district where either a defendant resides (if they are all residents of the state where the action is brought) or a district in which a substantial part of the events giving rise to the claim took place.'"
      ]
     },
     "execution_count": 10,
     "metadata": {},
     "output_type": "execute_result"
    }
   ],
   "source": [
    "generate_summary(txt, model_sum, tokenizer_sum, device_sum)"
   ]
  },
  {
   "cell_type": "code",
   "execution_count": 11,
   "metadata": {},
   "outputs": [],
   "source": [
    "# temp_sc = df[\"explanation\"].values.tolist()\n",
    "# temp_sc = [filter_text(i) for i in temp_sc]\n",
    "# temp_sc = [generate_summary(i, model_sum, tokenizer_sum, device_sum) for i in temp_sc]\n",
    "df[\"short_context\"] = df[\"explanation\"].apply(lambda x: generate_summary(x, model_sum, tokenizer_sum, device_sum))"
   ]
  },
  {
   "cell_type": "code",
   "execution_count": 12,
   "metadata": {},
   "outputs": [],
   "source": [
    "df.to_csv(\"train2.csv\", index=False)"
   ]
  },
  {
   "cell_type": "code",
   "execution_count": 13,
   "metadata": {},
   "outputs": [
    {
     "data": {
      "text/html": [
       "<div>\n",
       "<style scoped>\n",
       "    .dataframe tbody tr th:only-of-type {\n",
       "        vertical-align: middle;\n",
       "    }\n",
       "\n",
       "    .dataframe tbody tr th {\n",
       "        vertical-align: top;\n",
       "    }\n",
       "\n",
       "    .dataframe thead th {\n",
       "        text-align: right;\n",
       "    }\n",
       "</style>\n",
       "<table border=\"1\" class=\"dataframe\">\n",
       "  <thead>\n",
       "    <tr style=\"text-align: right;\">\n",
       "      <th></th>\n",
       "      <th>idx</th>\n",
       "      <th>question</th>\n",
       "      <th>answer</th>\n",
       "      <th>label</th>\n",
       "      <th>analysis</th>\n",
       "      <th>complete analysis</th>\n",
       "      <th>explanation</th>\n",
       "      <th>short_context</th>\n",
       "    </tr>\n",
       "  </thead>\n",
       "  <tbody>\n",
       "    <tr>\n",
       "      <th>0</th>\n",
       "      <td>0</td>\n",
       "      <td>1. Redistricting. Dziezek, who resides in the ...</td>\n",
       "      <td>the Western District of Kentucky.</td>\n",
       "      <td>0</td>\n",
       "      <td>So the remaining question is whether the West...</td>\n",
       "      <td>Let’s see. Under §1391(b)(1), venue is proper ...</td>\n",
       "      <td>Venue in most federal actions is governed by 2...</td>\n",
       "      <td>Venue in most federal actions is governed by 2...</td>\n",
       "    </tr>\n",
       "    <tr>\n",
       "      <th>1</th>\n",
       "      <td>1</td>\n",
       "      <td>1. Redistricting. Dziezek, who resides in the ...</td>\n",
       "      <td>the Southern District of Indiana.</td>\n",
       "      <td>0</td>\n",
       "      <td>But B is clearly not: the plaintiff’s residenc...</td>\n",
       "      <td>Let’s see. Under §1391(b)(1), venue is proper ...</td>\n",
       "      <td>Venue in most federal actions is governed by 2...</td>\n",
       "      <td>Venue in most federal actions is governed by 2...</td>\n",
       "    </tr>\n",
       "    <tr>\n",
       "      <th>2</th>\n",
       "      <td>2</td>\n",
       "      <td>1. Redistricting. Dziezek, who resides in the ...</td>\n",
       "      <td>the Southern District of Ohio.</td>\n",
       "      <td>1</td>\n",
       "      <td>Let’s see. Under §1391(b)(1), venue is proper ...</td>\n",
       "      <td>Let’s see. Under §1391(b)(1), venue is proper ...</td>\n",
       "      <td>Venue in most federal actions is governed by 2...</td>\n",
       "      <td>Venue in most federal actions is governed by 2...</td>\n",
       "    </tr>\n",
       "    <tr>\n",
       "      <th>3</th>\n",
       "      <td>3</td>\n",
       "      <td>2. Venue exercises. Chu, a Californian, went s...</td>\n",
       "      <td>proper in the Southern District of California ...</td>\n",
       "      <td>0</td>\n",
       "      <td>A is pretty clearly wrong. Although §1391(b)(2...</td>\n",
       "      <td>This question didn’t give my students much tro...</td>\n",
       "      <td>The venue provisions in §1391(b) also apply in...</td>\n",
       "      <td>The venue provisions in 1391(b) also apply in ...</td>\n",
       "    </tr>\n",
       "    <tr>\n",
       "      <th>4</th>\n",
       "      <td>4</td>\n",
       "      <td>2. Venue exercises. Chu, a Californian, went s...</td>\n",
       "      <td>proper in the District of Colorado under §1391...</td>\n",
       "      <td>0</td>\n",
       "      <td>B is another loser. First of all, Jackson does...</td>\n",
       "      <td>This question didn’t give my students much tro...</td>\n",
       "      <td>The venue provisions in §1391(b) also apply in...</td>\n",
       "      <td>The venue provisions in 1391(b) also apply in ...</td>\n",
       "    </tr>\n",
       "    <tr>\n",
       "      <th>...</th>\n",
       "      <td>...</td>\n",
       "      <td>...</td>\n",
       "      <td>...</td>\n",
       "      <td>...</td>\n",
       "      <td>...</td>\n",
       "      <td>...</td>\n",
       "      <td>...</td>\n",
       "      <td>...</td>\n",
       "    </tr>\n",
       "    <tr>\n",
       "      <th>661</th>\n",
       "      <td>661</td>\n",
       "      <td>7. Special delivery. PourPack is a Delaware co...</td>\n",
       "      <td>delivering the summons and complaint to Suares...</td>\n",
       "      <td>0</td>\n",
       "      <td>A is wrong here, because there is a difference...</td>\n",
       "      <td>In D, Perini apparently relies on Fed. R. Civ....</td>\n",
       "      <td>Rule 4(h) provides several options for serving...</td>\n",
       "      <td>Fed. R. Civ. P. 4(h)(1)(A) allows service on a...</td>\n",
       "    </tr>\n",
       "    <tr>\n",
       "      <th>662</th>\n",
       "      <td>662</td>\n",
       "      <td>7. Special delivery. PourPack is a Delaware co...</td>\n",
       "      <td>delivering the papers to the Utah Secretary of...</td>\n",
       "      <td>1</td>\n",
       "      <td>Service in B is proper, however. Here, Perini ...</td>\n",
       "      <td>In D, Perini apparently relies on Fed. R. Civ....</td>\n",
       "      <td>Rule 4(h) provides several options for serving...</td>\n",
       "      <td>Fed. R. Civ. P. 4(h)(1)(A) allows service on a...</td>\n",
       "    </tr>\n",
       "    <tr>\n",
       "      <th>663</th>\n",
       "      <td>663</td>\n",
       "      <td>7. Special delivery. PourPack is a Delaware co...</td>\n",
       "      <td>having a process server deliver the summons an...</td>\n",
       "      <td>0</td>\n",
       "      <td>In C, Perini appears to rely on the subsection...</td>\n",
       "      <td>In D, Perini apparently relies on Fed. R. Civ....</td>\n",
       "      <td>Rule 4(h) provides several options for serving...</td>\n",
       "      <td>Fed. R. Civ. P. 4(h)(1)(A) allows service on a...</td>\n",
       "    </tr>\n",
       "    <tr>\n",
       "      <th>664</th>\n",
       "      <td>664</td>\n",
       "      <td>7. Special delivery. PourPack is a Delaware co...</td>\n",
       "      <td>delivering the summons and the complaint to Po...</td>\n",
       "      <td>0</td>\n",
       "      <td>In D, Perini apparently relies on Fed. R. Civ....</td>\n",
       "      <td>In D, Perini apparently relies on Fed. R. Civ....</td>\n",
       "      <td>Rule 4(h) provides several options for serving...</td>\n",
       "      <td>Fed. R. Civ. P. 4(h)(1)(A) allows service on a...</td>\n",
       "    </tr>\n",
       "    <tr>\n",
       "      <th>665</th>\n",
       "      <td>665</td>\n",
       "      <td>8. Technical fouls. Eban brings suit against L...</td>\n",
       "      <td>Darrow files the complaint with the district c...</td>\n",
       "      <td>0</td>\n",
       "      <td>Service is a formal act by which a court asser...</td>\n",
       "      <td>Interestingly, in each of these cases the defe...</td>\n",
       "      <td>All of this is fairly technical, though import...</td>\n",
       "      <td>Rule 4 provides a method for a defendant to wa...</td>\n",
       "    </tr>\n",
       "  </tbody>\n",
       "</table>\n",
       "<p>666 rows × 8 columns</p>\n",
       "</div>"
      ],
      "text/plain": [
       "     idx                                           question  \\\n",
       "0      0  1. Redistricting. Dziezek, who resides in the ...   \n",
       "1      1  1. Redistricting. Dziezek, who resides in the ...   \n",
       "2      2  1. Redistricting. Dziezek, who resides in the ...   \n",
       "3      3  2. Venue exercises. Chu, a Californian, went s...   \n",
       "4      4  2. Venue exercises. Chu, a Californian, went s...   \n",
       "..   ...                                                ...   \n",
       "661  661  7. Special delivery. PourPack is a Delaware co...   \n",
       "662  662  7. Special delivery. PourPack is a Delaware co...   \n",
       "663  663  7. Special delivery. PourPack is a Delaware co...   \n",
       "664  664  7. Special delivery. PourPack is a Delaware co...   \n",
       "665  665  8. Technical fouls. Eban brings suit against L...   \n",
       "\n",
       "                                                answer  label  \\\n",
       "0                    the Western District of Kentucky.      0   \n",
       "1                    the Southern District of Indiana.      0   \n",
       "2                       the Southern District of Ohio.      1   \n",
       "3    proper in the Southern District of California ...      0   \n",
       "4    proper in the District of Colorado under §1391...      0   \n",
       "..                                                 ...    ...   \n",
       "661  delivering the summons and complaint to Suares...      0   \n",
       "662  delivering the papers to the Utah Secretary of...      1   \n",
       "663  having a process server deliver the summons an...      0   \n",
       "664  delivering the summons and the complaint to Po...      0   \n",
       "665  Darrow files the complaint with the district c...      0   \n",
       "\n",
       "                                              analysis  \\\n",
       "0     So the remaining question is whether the West...   \n",
       "1    But B is clearly not: the plaintiff’s residenc...   \n",
       "2    Let’s see. Under §1391(b)(1), venue is proper ...   \n",
       "3    A is pretty clearly wrong. Although §1391(b)(2...   \n",
       "4    B is another loser. First of all, Jackson does...   \n",
       "..                                                 ...   \n",
       "661  A is wrong here, because there is a difference...   \n",
       "662  Service in B is proper, however. Here, Perini ...   \n",
       "663  In C, Perini appears to rely on the subsection...   \n",
       "664  In D, Perini apparently relies on Fed. R. Civ....   \n",
       "665  Service is a formal act by which a court asser...   \n",
       "\n",
       "                                     complete analysis  \\\n",
       "0    Let’s see. Under §1391(b)(1), venue is proper ...   \n",
       "1    Let’s see. Under §1391(b)(1), venue is proper ...   \n",
       "2    Let’s see. Under §1391(b)(1), venue is proper ...   \n",
       "3    This question didn’t give my students much tro...   \n",
       "4    This question didn’t give my students much tro...   \n",
       "..                                                 ...   \n",
       "661  In D, Perini apparently relies on Fed. R. Civ....   \n",
       "662  In D, Perini apparently relies on Fed. R. Civ....   \n",
       "663  In D, Perini apparently relies on Fed. R. Civ....   \n",
       "664  In D, Perini apparently relies on Fed. R. Civ....   \n",
       "665  Interestingly, in each of these cases the defe...   \n",
       "\n",
       "                                           explanation  \\\n",
       "0    Venue in most federal actions is governed by 2...   \n",
       "1    Venue in most federal actions is governed by 2...   \n",
       "2    Venue in most federal actions is governed by 2...   \n",
       "3    The venue provisions in §1391(b) also apply in...   \n",
       "4    The venue provisions in §1391(b) also apply in...   \n",
       "..                                                 ...   \n",
       "661  Rule 4(h) provides several options for serving...   \n",
       "662  Rule 4(h) provides several options for serving...   \n",
       "663  Rule 4(h) provides several options for serving...   \n",
       "664  Rule 4(h) provides several options for serving...   \n",
       "665  All of this is fairly technical, though import...   \n",
       "\n",
       "                                         short_context  \n",
       "0    Venue in most federal actions is governed by 2...  \n",
       "1    Venue in most federal actions is governed by 2...  \n",
       "2    Venue in most federal actions is governed by 2...  \n",
       "3    The venue provisions in 1391(b) also apply in ...  \n",
       "4    The venue provisions in 1391(b) also apply in ...  \n",
       "..                                                 ...  \n",
       "661  Fed. R. Civ. P. 4(h)(1)(A) allows service on a...  \n",
       "662  Fed. R. Civ. P. 4(h)(1)(A) allows service on a...  \n",
       "663  Fed. R. Civ. P. 4(h)(1)(A) allows service on a...  \n",
       "664  Fed. R. Civ. P. 4(h)(1)(A) allows service on a...  \n",
       "665  Rule 4 provides a method for a defendant to wa...  \n",
       "\n",
       "[666 rows x 8 columns]"
      ]
     },
     "execution_count": 13,
     "metadata": {},
     "output_type": "execute_result"
    }
   ],
   "source": [
    "df"
   ]
  },
  {
   "cell_type": "code",
   "execution_count": 14,
   "metadata": {},
   "outputs": [],
   "source": [
    "df[\"Prompt\"] = df['short_context']+\" \"+df[\"question\"]+\" \"+df[\"answer\"]+\" \"+df[\"label\"].astype(str)\n",
    "df[\"Output\"] = df[\"Prompt\"]+df[\"analysis\"]"
   ]
  },
  {
   "cell_type": "code",
   "execution_count": 15,
   "metadata": {},
   "outputs": [],
   "source": [
    "df = df.dropna().reset_index(drop=True)"
   ]
  },
  {
   "cell_type": "code",
   "execution_count": null,
   "metadata": {},
   "outputs": [],
   "source": [
    "# unique_pairs = df[['explanation', 'question']].drop_duplicates()\n",
    "# unique_pairs[\"final_text\"] = \"Context: \"+unique_pairs.explanation+\"\\n\\nQuestion: \"+unique_pairs.question\n",
    "# questions = unique_pairs.final_text.tolist()"
   ]
  },
  {
   "cell_type": "code",
   "execution_count": null,
   "metadata": {},
   "outputs": [],
   "source": [
    "# prompt_text = \"Given the context and question as follows:\\n\\n\"+questions[0]+\"\\n\\nExtract the relevant context to answer the Question.\""
   ]
  },
  {
   "cell_type": "code",
   "execution_count": null,
   "metadata": {},
   "outputs": [],
   "source": [
    "# print(prompt_text)"
   ]
  },
  {
   "cell_type": "code",
   "execution_count": null,
   "metadata": {},
   "outputs": [],
   "source": [
    "# req_context = []"
   ]
  },
  {
   "cell_type": "code",
   "execution_count": null,
   "metadata": {},
   "outputs": [],
   "source": [
    "# for i in range(len(questions)):\n",
    "#     a = input(\"Enter the context for the question: \"+questions[i]+\"\\n\")\n",
    "#     req_context.append(a)"
   ]
  },
  {
   "cell_type": "code",
   "execution_count": null,
   "metadata": {},
   "outputs": [],
   "source": [
    "# req_context"
   ]
  },
  {
   "cell_type": "code",
   "execution_count": 16,
   "metadata": {},
   "outputs": [],
   "source": [
    "\n",
    "# Initialize the GPT-2 tokenizer\n",
    "tokenizer = GPT2Tokenizer.from_pretrained(\"gpt2\")\n",
    "\n",
    "# Generate the dataset\n",
    "dataset = []\n",
    "for i, row in df.iterrows():\n",
    "    prompt = row[\"Prompt\"]\n",
    "    output = row[\"Output\"]\n",
    "    # encoded_prompt = tokenizer.encode(prompt, add_special_tokens=False)\n",
    "    # encoded_output = tokenizer.encode(output, add_special_tokens=False)\n",
    "    dataset.append((prompt, output))\n",
    "\n",
    "# Save the dataset\n",
    "with open(\"train.txt\", \"w\") as f:\n",
    "    for prompt, output in dataset:\n",
    "        f.write(f\"{''.join(map(str, prompt))}\\t{''.join(map(str, output))}\\n\")"
   ]
  },
  {
   "cell_type": "code",
   "execution_count": 20,
   "metadata": {},
   "outputs": [
    {
     "name": "stderr",
     "output_type": "stream",
     "text": [
      "/Users/ujwaljp/Downloads/IITK/venv/lib/python3.11/site-packages/transformers/data/datasets/language_modeling.py:53: FutureWarning: This dataset will be removed from the library soon, preprocessing should be handled with the 🤗 Datasets library. You can have a look at this example script for pointers: https://github.com/huggingface/transformers/blob/main/examples/pytorch/language-modeling/run_mlm.py\n",
      "  warnings.warn(\n",
      "huggingface/tokenizers: The current process just got forked, after parallelism has already been used. Disabling parallelism to avoid deadlocks...\n",
      "To disable this warning, you can either:\n",
      "\t- Avoid using `tokenizers` before the fork if possible\n",
      "\t- Explicitly set the environment variable TOKENIZERS_PARALLELISM=(true | false)\n"
     ]
    },
    {
     "data": {
      "application/vnd.jupyter.widget-view+json": {
       "model_id": "21a686a58c4d4637a31a85e0c25dfc43",
       "version_major": 2,
       "version_minor": 0
      },
      "text/plain": [
       "  0%|          | 0/645 [00:00<?, ?it/s]"
      ]
     },
     "metadata": {},
     "output_type": "display_data"
    },
    {
     "name": "stdout",
     "output_type": "stream",
     "text": [
      "{'loss': 1.9745, 'learning_rate': 1.1240310077519382e-05, 'epoch': 2.33}\n",
      "{'train_runtime': 2044.7448, 'train_samples_per_second': 1.262, 'train_steps_per_second': 0.315, 'train_loss': 1.9157021455986556, 'epoch': 3.0}\n"
     ]
    },
    {
     "data": {
      "text/plain": [
       "TrainOutput(global_step=645, training_loss=1.9157021455986556, metrics={'train_runtime': 2044.7448, 'train_samples_per_second': 1.262, 'train_steps_per_second': 0.315, 'train_loss': 1.9157021455986556, 'epoch': 3.0})"
      ]
     },
     "execution_count": 20,
     "metadata": {},
     "output_type": "execute_result"
    }
   ],
   "source": [
    "\n",
    "\n",
    "# Load pre-trained GPT-2 model and tokenizer\n",
    "model_name = \"gpt2\"\n",
    "model = GPT2LMHeadModel.from_pretrained(model_name)\n",
    "# tokenizer = GPT2Tokenizer.from_pretrained(model_name)\n",
    "\n",
    "# Prepare your dataset and tokenize the data\n",
    "\n",
    "# Create the TextDataset\n",
    "dataset = TextDataset(\n",
    "    tokenizer=tokenizer,\n",
    "    file_path=\"train.txt\",  # Path to your dataset file\n",
    "    block_size=512  # Specify the block size\n",
    ")\n",
    "data_collator = DataCollatorForLanguageModeling(tokenizer=tokenizer, mlm=False)\n",
    "\n",
    "# Define the training arguments\n",
    "training_args = TrainingArguments(\n",
    "    output_dir=\"./gpt2-finetuned_1\",\n",
    "    overwrite_output_dir=True,\n",
    "    num_train_epochs=3,\n",
    "    per_device_train_batch_size=4,\n",
    "    save_steps=1000,\n",
    "    save_total_limit=2,\n",
    ")\n",
    "\n",
    "# Create a Trainer and fine-tune the model\n",
    "trainer = Trainer(\n",
    "    model=model,\n",
    "    args=training_args,\n",
    "    data_collator=data_collator,\n",
    "    train_dataset=dataset,\n",
    ")\n",
    "trainer.train()\n"
   ]
  },
  {
   "cell_type": "code",
   "execution_count": 21,
   "metadata": {},
   "outputs": [
    {
     "data": {
      "text/plain": [
       "('./gpt2-finetuned_1/tokenizer_config.json',\n",
       " './gpt2-finetuned_1/special_tokens_map.json',\n",
       " './gpt2-finetuned_1/vocab.json',\n",
       " './gpt2-finetuned_1/merges.txt',\n",
       " './gpt2-finetuned_1/added_tokens.json')"
      ]
     },
     "execution_count": 21,
     "metadata": {},
     "output_type": "execute_result"
    }
   ],
   "source": [
    "output_dir = \"./gpt2-finetuned_1\"\n",
    "model.save_pretrained(output_dir)\n",
    "tokenizer.save_pretrained(output_dir)"
   ]
  },
  {
   "cell_type": "markdown",
   "metadata": {},
   "source": [
    "Test"
   ]
  },
  {
   "cell_type": "code",
   "execution_count": 5,
   "metadata": {},
   "outputs": [],
   "source": [
    "model = GPT2LMHeadModel.from_pretrained(\"./gpt2-finetuned_1/\")\n",
    "tokenizer = GPT2Tokenizer.from_pretrained(\"./gpt2-finetuned_1/\")"
   ]
  },
  {
   "cell_type": "code",
   "execution_count": 23,
   "metadata": {},
   "outputs": [],
   "source": [
    "df1 = pd.read_csv(\"../Dataset/dataset_semeval24_traindev/dev.csv\")\n"
   ]
  },
  {
   "cell_type": "code",
   "execution_count": 24,
   "metadata": {},
   "outputs": [],
   "source": [
    "df1[\"short_context\"] = df1[\"explanation\"].apply(lambda x: generate_summary(x, model_sum, tokenizer_sum, device_sum))"
   ]
  },
  {
   "cell_type": "code",
   "execution_count": 25,
   "metadata": {},
   "outputs": [],
   "source": [
    "df1.to_csv(\"dev2.csv\", index = False)"
   ]
  },
  {
   "cell_type": "code",
   "execution_count": 26,
   "metadata": {},
   "outputs": [
    {
     "data": {
      "text/html": [
       "<div>\n",
       "<style scoped>\n",
       "    .dataframe tbody tr th:only-of-type {\n",
       "        vertical-align: middle;\n",
       "    }\n",
       "\n",
       "    .dataframe tbody tr th {\n",
       "        vertical-align: top;\n",
       "    }\n",
       "\n",
       "    .dataframe thead th {\n",
       "        text-align: right;\n",
       "    }\n",
       "</style>\n",
       "<table border=\"1\" class=\"dataframe\">\n",
       "  <thead>\n",
       "    <tr style=\"text-align: right;\">\n",
       "      <th></th>\n",
       "      <th>idx</th>\n",
       "      <th>question</th>\n",
       "      <th>answer</th>\n",
       "      <th>label</th>\n",
       "      <th>analysis</th>\n",
       "      <th>complete analysis</th>\n",
       "      <th>explanation</th>\n",
       "      <th>short_context</th>\n",
       "    </tr>\n",
       "  </thead>\n",
       "  <tbody>\n",
       "    <tr>\n",
       "      <th>0</th>\n",
       "      <td>0</td>\n",
       "      <td>7. A venue medley. Zirkhov brings a diversity ...</td>\n",
       "      <td>The court must transfer the action to the West...</td>\n",
       "      <td>0</td>\n",
       "      <td>C suggests that the judge must transfer under ...</td>\n",
       "      <td>A good place to start is to ask whether venue ...</td>\n",
       "      <td>So, when a plaintiff files suit in a district ...</td>\n",
       "      <td>When a plaintiff files suit in a district that...</td>\n",
       "    </tr>\n",
       "    <tr>\n",
       "      <th>1</th>\n",
       "      <td>1</td>\n",
       "      <td>7. A venue medley. Zirkhov brings a diversity ...</td>\n",
       "      <td>The court will have to dismiss, since 28 U.S.C...</td>\n",
       "      <td>0</td>\n",
       "      <td>Nibbling away at the edges, consider D, which ...</td>\n",
       "      <td>A good place to start is to ask whether venue ...</td>\n",
       "      <td>So, when a plaintiff files suit in a district ...</td>\n",
       "      <td>When a plaintiff files suit in a district that...</td>\n",
       "    </tr>\n",
       "    <tr>\n",
       "      <th>2</th>\n",
       "      <td>2</td>\n",
       "      <td>7. A venue medley. Zirkhov brings a diversity ...</td>\n",
       "      <td>The court could transfer the action under 28 U...</td>\n",
       "      <td>0</td>\n",
       "      <td>A good place to start is to ask whether venue ...</td>\n",
       "      <td>A good place to start is to ask whether venue ...</td>\n",
       "      <td>So, when a plaintiff files suit in a district ...</td>\n",
       "      <td>When a plaintiff files suit in a district that...</td>\n",
       "    </tr>\n",
       "    <tr>\n",
       "      <th>3</th>\n",
       "      <td>3</td>\n",
       "      <td>7. Comedy of errors. Laurel and Hardy are inju...</td>\n",
       "      <td>reverse the decision in Fields’s case, and rem...</td>\n",
       "      <td>0</td>\n",
       "      <td>In this example the federal judge did her best...</td>\n",
       "      <td>In this example the federal judge did her best...</td>\n",
       "      <td>State law is not static. It may change while a...</td>\n",
       "      <td>State law is not static. It may change while a...</td>\n",
       "    </tr>\n",
       "    <tr>\n",
       "      <th>4</th>\n",
       "      <td>4</td>\n",
       "      <td>7. Comedy of errors. Laurel and Hardy are inju...</td>\n",
       "      <td>reverse the decision in Fields’s case, and rem...</td>\n",
       "      <td>1</td>\n",
       "      <td>But what will the federal trial court do about...</td>\n",
       "      <td>In this example the federal judge did her best...</td>\n",
       "      <td>State law is not static. It may change while a...</td>\n",
       "      <td>State law is not static. It may change while a...</td>\n",
       "    </tr>\n",
       "    <tr>\n",
       "      <th>...</th>\n",
       "      <td>...</td>\n",
       "      <td>...</td>\n",
       "      <td>...</td>\n",
       "      <td>...</td>\n",
       "      <td>...</td>\n",
       "      <td>...</td>\n",
       "      <td>...</td>\n",
       "      <td>...</td>\n",
       "    </tr>\n",
       "    <tr>\n",
       "      <th>79</th>\n",
       "      <td>79</td>\n",
       "      <td>7. If at first you don’t succeed. . . . Ervin ...</td>\n",
       "      <td>The court will consider whether Ito was subjec...</td>\n",
       "      <td>0</td>\n",
       "      <td>C isn’t right either. While it is generally tr...</td>\n",
       "      <td>Although the introduction doesn’t give you the...</td>\n",
       "      <td>So, we’ve seen that the defendant has several ...</td>\n",
       "      <td>The defendant has several options in challengi...</td>\n",
       "    </tr>\n",
       "    <tr>\n",
       "      <th>80</th>\n",
       "      <td>80</td>\n",
       "      <td>8. Technical fouls. Eban brings suit against L...</td>\n",
       "      <td>Darrow files the complaint and mails a copy of...</td>\n",
       "      <td>0</td>\n",
       "      <td>He has been sloppy in B as well. A waiver is n...</td>\n",
       "      <td>Interestingly, in each of these cases the defe...</td>\n",
       "      <td>All of this is fairly technical, though import...</td>\n",
       "      <td>Rule 4 provides a method for a defendant to wa...</td>\n",
       "    </tr>\n",
       "    <tr>\n",
       "      <th>81</th>\n",
       "      <td>81</td>\n",
       "      <td>8. Technical fouls. Eban brings suit against L...</td>\n",
       "      <td>Darrow files the complaint and mails a copy of...</td>\n",
       "      <td>1</td>\n",
       "      <td>In C, Darrow sent a proper request for waiver,...</td>\n",
       "      <td>Interestingly, in each of these cases the defe...</td>\n",
       "      <td>All of this is fairly technical, though import...</td>\n",
       "      <td>Rule 4 provides a method for a defendant to wa...</td>\n",
       "    </tr>\n",
       "    <tr>\n",
       "      <th>82</th>\n",
       "      <td>82</td>\n",
       "      <td>8. Technical fouls. Eban brings suit against L...</td>\n",
       "      <td>Darrow files the complaint and mails a copy of...</td>\n",
       "      <td>0</td>\n",
       "      <td>And in D, Darrow gets back the post office rec...</td>\n",
       "      <td>Interestingly, in each of these cases the defe...</td>\n",
       "      <td>All of this is fairly technical, though import...</td>\n",
       "      <td>Rule 4 provides a method for a defendant to wa...</td>\n",
       "    </tr>\n",
       "    <tr>\n",
       "      <th>83</th>\n",
       "      <td>83</td>\n",
       "      <td>9. Problems, problems. Preferred Metalworks, I...</td>\n",
       "      <td>Stamski serves process by mailing a summons, a...</td>\n",
       "      <td>0</td>\n",
       "      <td>In A, service is proper on Preferred, because ...</td>\n",
       "      <td>In C, service of process is proper on both Don...</td>\n",
       "      <td>This Closer introduces no new material; it jus...</td>\n",
       "      <td>This Closer introduces no new material; it jus...</td>\n",
       "    </tr>\n",
       "  </tbody>\n",
       "</table>\n",
       "<p>84 rows × 8 columns</p>\n",
       "</div>"
      ],
      "text/plain": [
       "    idx                                           question  \\\n",
       "0     0  7. A venue medley. Zirkhov brings a diversity ...   \n",
       "1     1  7. A venue medley. Zirkhov brings a diversity ...   \n",
       "2     2  7. A venue medley. Zirkhov brings a diversity ...   \n",
       "3     3  7. Comedy of errors. Laurel and Hardy are inju...   \n",
       "4     4  7. Comedy of errors. Laurel and Hardy are inju...   \n",
       "..  ...                                                ...   \n",
       "79   79  7. If at first you don’t succeed. . . . Ervin ...   \n",
       "80   80  8. Technical fouls. Eban brings suit against L...   \n",
       "81   81  8. Technical fouls. Eban brings suit against L...   \n",
       "82   82  8. Technical fouls. Eban brings suit against L...   \n",
       "83   83  9. Problems, problems. Preferred Metalworks, I...   \n",
       "\n",
       "                                               answer  label  \\\n",
       "0   The court must transfer the action to the West...      0   \n",
       "1   The court will have to dismiss, since 28 U.S.C...      0   \n",
       "2   The court could transfer the action under 28 U...      0   \n",
       "3   reverse the decision in Fields’s case, and rem...      0   \n",
       "4   reverse the decision in Fields’s case, and rem...      1   \n",
       "..                                                ...    ...   \n",
       "79  The court will consider whether Ito was subjec...      0   \n",
       "80  Darrow files the complaint and mails a copy of...      0   \n",
       "81  Darrow files the complaint and mails a copy of...      1   \n",
       "82  Darrow files the complaint and mails a copy of...      0   \n",
       "83  Stamski serves process by mailing a summons, a...      0   \n",
       "\n",
       "                                             analysis  \\\n",
       "0   C suggests that the judge must transfer under ...   \n",
       "1   Nibbling away at the edges, consider D, which ...   \n",
       "2   A good place to start is to ask whether venue ...   \n",
       "3   In this example the federal judge did her best...   \n",
       "4   But what will the federal trial court do about...   \n",
       "..                                                ...   \n",
       "79  C isn’t right either. While it is generally tr...   \n",
       "80  He has been sloppy in B as well. A waiver is n...   \n",
       "81  In C, Darrow sent a proper request for waiver,...   \n",
       "82  And in D, Darrow gets back the post office rec...   \n",
       "83  In A, service is proper on Preferred, because ...   \n",
       "\n",
       "                                    complete analysis  \\\n",
       "0   A good place to start is to ask whether venue ...   \n",
       "1   A good place to start is to ask whether venue ...   \n",
       "2   A good place to start is to ask whether venue ...   \n",
       "3   In this example the federal judge did her best...   \n",
       "4   In this example the federal judge did her best...   \n",
       "..                                                ...   \n",
       "79  Although the introduction doesn’t give you the...   \n",
       "80  Interestingly, in each of these cases the defe...   \n",
       "81  Interestingly, in each of these cases the defe...   \n",
       "82  Interestingly, in each of these cases the defe...   \n",
       "83  In C, service of process is proper on both Don...   \n",
       "\n",
       "                                          explanation  \\\n",
       "0   So, when a plaintiff files suit in a district ...   \n",
       "1   So, when a plaintiff files suit in a district ...   \n",
       "2   So, when a plaintiff files suit in a district ...   \n",
       "3   State law is not static. It may change while a...   \n",
       "4   State law is not static. It may change while a...   \n",
       "..                                                ...   \n",
       "79  So, we’ve seen that the defendant has several ...   \n",
       "80  All of this is fairly technical, though import...   \n",
       "81  All of this is fairly technical, though import...   \n",
       "82  All of this is fairly technical, though import...   \n",
       "83  This Closer introduces no new material; it jus...   \n",
       "\n",
       "                                        short_context  \n",
       "0   When a plaintiff files suit in a district that...  \n",
       "1   When a plaintiff files suit in a district that...  \n",
       "2   When a plaintiff files suit in a district that...  \n",
       "3   State law is not static. It may change while a...  \n",
       "4   State law is not static. It may change while a...  \n",
       "..                                                ...  \n",
       "79  The defendant has several options in challengi...  \n",
       "80  Rule 4 provides a method for a defendant to wa...  \n",
       "81  Rule 4 provides a method for a defendant to wa...  \n",
       "82  Rule 4 provides a method for a defendant to wa...  \n",
       "83  This Closer introduces no new material; it jus...  \n",
       "\n",
       "[84 rows x 8 columns]"
      ]
     },
     "execution_count": 26,
     "metadata": {},
     "output_type": "execute_result"
    }
   ],
   "source": [
    "df1"
   ]
  },
  {
   "cell_type": "code",
   "execution_count": 27,
   "metadata": {},
   "outputs": [],
   "source": [
    "prompts = (df1[\"short_context\"]+\" \"+df1[\"question\"]+\" \"+df1[\"answer\"]+\" \"+df1[\"label\"].astype(str)).values.tolist()"
   ]
  },
  {
   "cell_type": "code",
   "execution_count": 28,
   "metadata": {},
   "outputs": [
    {
     "data": {
      "text/plain": [
       "['When a plaintiff files suit in a district that is proper under the venue statute, the court may hear the case.<n>A striking virtue of section 1406(a) is that it allows a court to save a plaintiff’s cause of action if she files in the wrong venue. 7. A venue medley. Zirkhov brings a diversity action against Pardee, a truck driver from Ohio, and Lugo Enterprises, his employer, for injuries in an accident that took place in the Western District of Kentucky. He files the action in the federal district court for the Northern District of Illinois, where Lugo’s principal place of business is located. Pardee, who lives in Ohio, moves to dismiss the action for improper venue. The court must transfer the action to the Western District of Kentucky under 28 U.S.C. §1406(a), since it is a proper venue. 0',\n",
       " 'When a plaintiff files suit in a district that is proper under the venue statute, the court may hear the case.<n>A striking virtue of section 1406(a) is that it allows a court to save a plaintiff’s cause of action if she files in the wrong venue. 7. A venue medley. Zirkhov brings a diversity action against Pardee, a truck driver from Ohio, and Lugo Enterprises, his employer, for injuries in an accident that took place in the Western District of Kentucky. He files the action in the federal district court for the Northern District of Illinois, where Lugo’s principal place of business is located. Pardee, who lives in Ohio, moves to dismiss the action for improper venue. The court will have to dismiss, since 28 U.S.C. §1406(a) only allows transfer to a district in which the case might have been brought. 0',\n",
       " 'When a plaintiff files suit in a district that is proper under the venue statute, the court may hear the case.<n>A striking virtue of section 1406(a) is that it allows a court to save a plaintiff’s cause of action if she files in the wrong venue. 7. A venue medley. Zirkhov brings a diversity action against Pardee, a truck driver from Ohio, and Lugo Enterprises, his employer, for injuries in an accident that took place in the Western District of Kentucky. He files the action in the federal district court for the Northern District of Illinois, where Lugo’s principal place of business is located. Pardee, who lives in Ohio, moves to dismiss the action for improper venue. The court could transfer the action under 28 U.S.C. §1404(a) if doing so would be in the interest of justice. 0',\n",
       " 'State law is not static. It may change while a federal diversity case is being litigated, before it is litigated, after it is litigated, or while it is on appeal.<n>If it changes during the litigation, should the federal court conform to the state law as it existed when the case arose, when it was filed, when it was tried, or as of some other point in the litigation? 7. Comedy of errors. Laurel and Hardy are injured when they are traveling in Fields’s car in the State of Emporia and Fields collides with Gleason. Laurel and Hardy bring a diversity action against Fields and Gleason in federal court. Under Emporia case law, it is unclear whether, if Gleason and Fields were both negligent, they would be liable for their percentages of fault (several liability) or each liable for the plaintiff’s full damages (joint and several liability). The federal district judge, making her best guess at the law of Emporia on the liability of joint tortfeasors, concludes that the Emporia Supreme Court would apply joint and several liability. Consequently, after the jury finds both Fields and Gleason negligent, she holds each defendant liable for Laurel and Hardy’s full damages, rather than for reduced damages based on each defendant’s percentage of negligence. Fields appeals her ruling to the federal Court of Appeals. Gleason does not appeal. While Fields’s appeal is pending, the Emporia Supreme Court holds, in an unrelated case, that several liability is the proper rule in joint tortfeasor cases. Fields’s federal appeal is heard after the Emporia Supreme Court’s decision comes down. Fields argues that the Court of Appeals should apply several liability to his case, even though the trial judge had applied joint and several liability. Gleason, the other defendant, moves for relief from the judgment against him in the federal district court, on the ground that the judgment was based on a mistake concerning the applicable law. The federal Court of Appeals will reverse the decision in Fields’s case, and remand it for entry of a new judgment based on several liability. The federal district court will grant Gleason’s motion for relief from judgment. 0',\n",
       " 'State law is not static. It may change while a federal diversity case is being litigated, before it is litigated, after it is litigated, or while it is on appeal.<n>If it changes during the litigation, should the federal court conform to the state law as it existed when the case arose, when it was filed, when it was tried, or as of some other point in the litigation? 7. Comedy of errors. Laurel and Hardy are injured when they are traveling in Fields’s car in the State of Emporia and Fields collides with Gleason. Laurel and Hardy bring a diversity action against Fields and Gleason in federal court. Under Emporia case law, it is unclear whether, if Gleason and Fields were both negligent, they would be liable for their percentages of fault (several liability) or each liable for the plaintiff’s full damages (joint and several liability). The federal district judge, making her best guess at the law of Emporia on the liability of joint tortfeasors, concludes that the Emporia Supreme Court would apply joint and several liability. Consequently, after the jury finds both Fields and Gleason negligent, she holds each defendant liable for Laurel and Hardy’s full damages, rather than for reduced damages based on each defendant’s percentage of negligence. Fields appeals her ruling to the federal Court of Appeals. Gleason does not appeal. While Fields’s appeal is pending, the Emporia Supreme Court holds, in an unrelated case, that several liability is the proper rule in joint tortfeasor cases. Fields’s federal appeal is heard after the Emporia Supreme Court’s decision comes down. Fields argues that the Court of Appeals should apply several liability to his case, even though the trial judge had applied joint and several liability. Gleason, the other defendant, moves for relief from the judgment against him in the federal district court, on the ground that the judgment was based on a mistake concerning the applicable law. The federal Court of Appeals will reverse the decision in Fields’s case, and remand it for entry of a new judgment based on several liability. The federal district court will probably deny Gleason’s motion for relief from judgment. 1',\n",
       " 'Every state has ‘‘choice-of-law’’ rules to deal with this problem.<n>Federal courts faced the further problem of choosing which state’s law to use in a case like Erie.<n>It is entirely possible, under this balkanized approach to choice of law, that a New York court would apply New York law to a case, even though, had the case been filed in Pennsylvania, that court would have chosen its law. 8. Your law or mine? Whitney, a Rhode Island citizen, goes skiing at a ski area in Vermont. When he purchases his lift ticket, he quickly signs a release of liability, waiving his right to sue, should he be injured due to negligence of the operator. While coming down an expert trail, he comes suddenly upon a bare spot full of rocks. He falls and is injured. He brings a diversity action against the operator in federal court in Rhode Island, basing personal jurisdiction on the fact that it had sent him an offer there for a weekend ski package that induced him to go to Vermont to ski. Assume that Rhode Island tort law refuses to enforce advance waivers of liability for negligence, unless they were individually negotiated. Assume further that Vermont tort law holds such waivers enforceable. Assume further that Rhode Island’s choice-of-law rule for tort cases is to apply the law of the place of the injury, while Vermont’s choice-of-law rule involves an assessment of the interests of the parties and states involved. It is less predictable under this balancing approach to choice of law whether the court would apply Rhode Island or Vermont law. The Rhode Island federal district judge would probably apply Vermont law to Whitney’s case, because the accident happened in Vermont. 1',\n",
       " 'The Court addressed the power of Congress to promulgate rules that govern procedure in the federal courts.<n>Surely, Congress could not delegate to the Court any broader rule-making power than it possesses itself. 6. Limits on limitations. Congress, in an effort to avoid complex and time-consuming litigation on the proper time for filing diversity cases in the federal courts, enacts the Federal Diversity Limitations Act (FDLA), establishing a two-year limitations period for diversity cases in the federal courts, regardless of the applicable state limitations period for the claim. Sanchez brings a diversity action against Bernstein in federal court for fraud arising out of a real estate transaction. The relevant state limitations period for fraud claims is four years. Sanchez’s suit is brought two years and five months after the alleged fraud was committed. The federal court should dismiss the claim, because the FDLA applies and bars it. 1',\n",
       " 'The Court addressed the power of Congress to promulgate rules that govern procedure in the federal courts.<n>Surely, Congress could not delegate to the Court any broader rule-making power than it possesses itself. 6. Limits on limitations. Congress, in an effort to avoid complex and time-consuming litigation on the proper time for filing diversity cases in the federal courts, enacts the Federal Diversity Limitations Act (FDLA), establishing a two-year limitations period for diversity cases in the federal courts, regardless of the applicable state limitations period for the claim. Sanchez brings a diversity action against Bernstein in federal court for fraud arising out of a real estate transaction. The relevant state limitations period for fraud claims is four years. Sanchez’s suit is brought two years and five months after the alleged fraud was committed. The federal court should entertain the claim, because the limitations period is ‘‘bound up with the rights and obligations’’ of the parties. 0',\n",
       " 'Chief Justice Warren recognized that conflicts between state and federal practice arise in two different contexts.<n>York involved a conflict between a state statute and the judicial practice of applying the equitable laches doctrine.<n>Byrd involved a conflict between a state judicial practice of having the judge decide employee status and federal judicial practice of having the jury decide all factual issues. 7. A matter of procedure? Columbus sues Moriarty in federal court, based on diversity jurisdiction. Her claim is for an injury she suffered in Tennessee, when she was hit by a bullet fired by one of a group of hunters. Her injuries are grievous, so her damages evidence will be graphic and moving. There is a significant question in the case as to whether it was Moriarty who shot her. Moriarty moves to bifurcate the trial, that is, to try the issue of whether his bullet hit Columbus first—and have the jury decide it—before trying the damages issues. Fed. R. Civ. P. 42(b) authorizes federal courts to order a separate trial of one or more issues ‘‘in furtherance of convenience or to avoid prejudice.’’ However, Tennessee has a state constitutional provision that has been interpreted to require a single, unified trial of all the issues in a suit. The federal judge grants the motion for a separate trial, and the jury finds that it was not Moriarty’s bullet that hit Columbus. Judgment therefore enters for Moriarty. Columbus appeals, arguing that the court should have applied the state unified-trial approach. The Court of Appeals should affirm the judgment, because Moriarty might have won in a unitary trial as well, so the Rule 42(b) decision to bifurcate is not outcome-determinative. 0',\n",
       " 'The rulemakers considered this possibility, and dealt with it in Rule 14(a)<n>The preceding discussion, and the various subsections of Rule 14(a) itself, should provide all the information you need to address the following tidbit. 7. More slings and arrows. Clear Code Software agreed to create a litigation-support computer program for Holmes, a lawyer. It contracted out the writing of the code to Jasper, a Caltech grad student. Jasper wrote the code using a computer he rented from High Tech Rentals, Inc. He delivered the code to Clear Code, which put the program together and delivered it to Holmes, who claimed that it never worked properly and didn’t pay for it. Holmes sued Clear Code for breach of contract in federal court. (Assume that there are no subject matter jurisdiction problems with the action.) Clear Code in turn asserted a claim against Jasper, claiming that (while it was liable for Jasper’s work) the problem resulted from his faulty programming, so that he should end up absorbing the loss. Jasper then asserted five claims. His first claim was a quantum meruit claim against Holmes for the value of the services he rendered in preparing the computer program. The second was a claim for defamation against Holmes, for claiming to Clear Code that his programming work was ‘‘abominable.’’ His third claim was against High Tech, claiming that a glitch in the computer they rented to him caused the problem in the code, causing the Holmes program to fail. Jasper alleged that, if he was liable to Clear Code, then High Tech, as the cause of the defect in the program, should end up absorbing the damages. Fourth, he asserted a claim against Clear Code, the defendant, for the fee he had been promised for preparing the Holmes code, and another for his fee for an unrelated job. Of Jasper’s two claims against Clear Code only the one for the Holmes job is proper under the rules. 0',\n",
       " 'The rulemakers considered this possibility, and dealt with it in Rule 14(a)<n>The preceding discussion, and the various subsections of Rule 14(a) itself, should provide all the information you need to address the following tidbit. 7. More slings and arrows. Clear Code Software agreed to create a litigation-support computer program for Holmes, a lawyer. It contracted out the writing of the code to Jasper, a Caltech grad student. Jasper wrote the code using a computer he rented from High Tech Rentals, Inc. He delivered the code to Clear Code, which put the program together and delivered it to Holmes, who claimed that it never worked properly and didn’t pay for it. Holmes sued Clear Code for breach of contract in federal court. (Assume that there are no subject matter jurisdiction problems with the action.) Clear Code in turn asserted a claim against Jasper, claiming that (while it was liable for Jasper’s work) the problem resulted from his faulty programming, so that he should end up absorbing the loss. Jasper then asserted five claims. His first claim was a quantum meruit claim against Holmes for the value of the services he rendered in preparing the computer program. The second was a claim for defamation against Holmes, for claiming to Clear Code that his programming work was ‘‘abominable.’’ His third claim was against High Tech, claiming that a glitch in the computer they rented to him caused the problem in the code, causing the Holmes program to fail. Jasper alleged that, if he was liable to Clear Code, then High Tech, as the cause of the defect in the program, should end up absorbing the damages. Fourth, he asserted a claim against Clear Code, the defendant, for the fee he had been promised for preparing the Holmes code, and another for his fee for an unrelated job. Of Jasper’s claims against Holmes, one is permissive, the other compulsory. 0',\n",
       " 'The rulemakers considered this possibility, and dealt with it in Rule 14(a)<n>The preceding discussion, and the various subsections of Rule 14(a) itself, should provide all the information you need to address the following tidbit. 7. More slings and arrows. Clear Code Software agreed to create a litigation-support computer program for Holmes, a lawyer. It contracted out the writing of the code to Jasper, a Caltech grad student. Jasper wrote the code using a computer he rented from High Tech Rentals, Inc. He delivered the code to Clear Code, which put the program together and delivered it to Holmes, who claimed that it never worked properly and didn’t pay for it. Holmes sued Clear Code for breach of contract in federal court. (Assume that there are no subject matter jurisdiction problems with the action.) Clear Code in turn asserted a claim against Jasper, claiming that (while it was liable for Jasper’s work) the problem resulted from his faulty programming, so that he should end up absorbing the loss. Jasper then asserted five claims. His first claim was a quantum meruit claim against Holmes for the value of the services he rendered in preparing the computer program. The second was a claim for defamation against Holmes, for claiming to Clear Code that his programming work was ‘‘abominable.’’ His third claim was against High Tech, claiming that a glitch in the computer they rented to him caused the problem in the code, causing the Holmes program to fail. Jasper alleged that, if he was liable to Clear Code, then High Tech, as the cause of the defect in the program, should end up absorbing the damages. Fourth, he asserted a claim against Clear Code, the defendant, for the fee he had been promised for preparing the Holmes code, and another for his fee for an unrelated job. Jasper’s claim against High Tech is not a proper impleader claim, because Jasper is not the original defendant. 0',\n",
       " 'Section 1367(b) was drafted with Kroger in mind.<n>Kroger held that the federal courts should not hear claims by plaintiffs against third-party defendants in diversity cases.<n>1367(b) enumerates certain situations in which a plaintiff in a diversity case cannot rely on supplemental jurisdiction to assert additional claims. 6. Wish I had a nickel. Cavers, from Wisconsin, sues Pariah Corporation, an Iowa corporation with its principal place of business in Iowa, for damages under the Federal Age Discrimination in Employment Act. He sues in federal court, claiming that Pariah fired him based on his age, seeking $50,000 in damages. Pariah impleads Newcomb, a former supervisor who allegedly made the actual decision to fire Cavers. It seeks indemnification from Newcomb, an Iowa citizen, for her illegal act. After Newcomb is brought in under Rule 14(a), Cavers asserts a claim directly against Newcomb, alleging tortious interference with the contract, a state law claim, against him and seeking the same damages. Newcomb moves to dismiss Cavers’s claim against her for lack of subject matter jurisdiction. The court lacks supplemental jurisdiction over the claim, but may hear it since it satisfies the Gibbs test for a single constitutional case. 0',\n",
       " 'Section 1367(b) was drafted with Kroger in mind.<n>Kroger held that the federal courts should not hear claims by plaintiffs against third-party defendants in diversity cases.<n>1367(b) enumerates certain situations in which a plaintiff in a diversity case cannot rely on supplemental jurisdiction to assert additional claims. 6. Wish I had a nickel. Cavers, from Wisconsin, sues Pariah Corporation, an Iowa corporation with its principal place of business in Iowa, for damages under the Federal Age Discrimination in Employment Act. He sues in federal court, claiming that Pariah fired him based on his age, seeking $50,000 in damages. Pariah impleads Newcomb, a former supervisor who allegedly made the actual decision to fire Cavers. It seeks indemnification from Newcomb, an Iowa citizen, for her illegal act. After Newcomb is brought in under Rule 14(a), Cavers asserts a claim directly against Newcomb, alleging tortious interference with the contract, a state law claim, against him and seeking the same damages. Newcomb moves to dismiss Cavers’s claim against her for lack of subject matter jurisdiction. The court has supplemental jurisdiction over the claim under §1367(a), and §1367(b) does not bar the court from hearing the claim. 1',\n",
       " 'Before the supplemental jurisdiction statute, each plaintiff had to meet the amount in controversy requirement independently against each defendant.<n>When Congress enacted the supplemental jurisdiction statute, it probably did not intend to change either of those rules.<n>In analyzing the problem, focus ruthlessly on the language of the statute. 8. Supplementing supplemental jurisdiction. Cavers, from Wisconsin, sues Pariah Corporation, an Iowa corporation with its principal place of business in Iowa, for damages for breach of contract, after he is fired by Pariah on the ground that he, along with Westford, had embezzled funds from Pariah. Cavers sues in federal court, for $100,000, based on diversity jurisdiction. Westford, another Wisconsin citizen, was also fired for the embezzlement, and joins as a coplaintiff in the suit, seeking $40,000 in damages. Under the language of 28 U.S.C. §1367 in the suit, the court would have jurisdiction over Westford’s claim under §1367(a), but it is barred by §1367(b). 0',\n",
       " 'Rule 8 requires the defendant to admit or deny each of the allegations in the complaint.<n>If the defendant means to deny only a part of an allegation, she must specify what is true and deny only the parts that are not.<n>If the parties plead conscientiously by the Rules, the parties and the court can compare the allegations in the complaint and the responses in the answer. 8. Yes, no, and maybe. Patterson sues Applied Electronics, Inc., for injuries suffered in an accident with Adair, one of AE’s delivery drivers. Patterson alleges in Paragraph 4 of his complaint that Adair was an employee of AE at the time of the accident, that Adair was acting in the scope of employment at the time of the accident (which Patterson must prove in order to recover from the employer), that Adair was talking on his cell phone at the time of the accident, and that Adair’s negligent driving caused the accident. AE answers Paragraph 4 as follows: ‘‘The defendant admits that Adair was its employee at the time of the accident, denies that Adair was negligent, but is without sufficient information to form a belief as to the truth of the allegation that Adair was talking on his cell phone at the time of the accident.’’ Under Federal Rule 8, AE has admitted that Adair was its employee, but not that he acted in the scope of employment. The allegation that Adair was talking on his cell phone is treated as denied. 0',\n",
       " 'Federal Rules allow the plaintiff to present as many claims as she has evidence to support, even if they can’t all be true.<n>The defendant is allowed to plead whatever defenses she has to the plaintiff’s claim. 9. Sufficient information? Patterson sues Applied Electronics, Inc., for injuries suffered in an accident with Adair, one of AE’s delivery drivers. Patterson alleges in Paragraph 4 of his complaint that Adair was acting in the scope of employment at the time of the accident (which is necessary in order to recover from the employer). When it answers the complaint, AE has some information suggesting that Adair was acting in the scope of employment at the time, but also some information suggesting that he was not. AE should admit and deny that Adair acted in the scope of employment at the time of the accident, since it has some information that would support both positions. 0',\n",
       " 'Federal Rules allow the plaintiff to present as many claims as she has evidence to support, even if they can’t all be true.<n>The defendant is allowed to plead whatever defenses she has to the plaintiff’s claim. 9. Sufficient information? Patterson sues Applied Electronics, Inc., for injuries suffered in an accident with Adair, one of AE’s delivery drivers. Patterson alleges in Paragraph 4 of his complaint that Adair was acting in the scope of employment at the time of the accident (which is necessary in order to recover from the employer). When it answers the complaint, AE has some information suggesting that Adair was acting in the scope of employment at the time, but also some information suggesting that he was not. AE should not answer this allegation, since it doesn’t know whether Adair acted in the scope of employment or not. 0',\n",
       " 'Federal Rules allow the plaintiff to present as many claims as she has evidence to support, even if they can’t all be true.<n>The defendant is allowed to plead whatever defenses she has to the plaintiff’s claim. 9. Sufficient information? Patterson sues Applied Electronics, Inc., for injuries suffered in an accident with Adair, one of AE’s delivery drivers. Patterson alleges in Paragraph 4 of his complaint that Adair was acting in the scope of employment at the time of the accident (which is necessary in order to recover from the employer). When it answers the complaint, AE has some information suggesting that Adair was acting in the scope of employment at the time, but also some information suggesting that he was not. AE should answer that it is ‘‘without knowledge or information sufficient to form a belief about the truth of [the] allegation in Paragraph 4.’’ This will constitute an admission of the allegation, but AE could move to amend its answer if it learns through discovery that Adair did not act in the scope of employment. 0',\n",
       " 'A party who sues a defendant on a claim within the limitations period may change theories.<n>The amended allegations will ‘‘relate back’’ to the date the original complaint was filed. 7. Black and White. Williams is roughed up during an arrest by a police officer and suffers a broken wrist that doesn’t heal right. Williams consults Darrow, a lawyer, who brings a federal civil rights action for his injury. Darrow obtains the police report of the arrest, which lists Officer Black as the arresting officer. Darrow names Black as the defendant. Suit is filed one month before the limitations period runs. In fact, it wasn’t Black who arrested Williams, it was Officer White. The report, filled out by the booking officer, was simply mistaken. Within a few days, every officer in the precinct, including White, became aware that Black had been sued by an arrestee for excessive force, though they were not aware of the specific circumstances of the case or the identity of the plaintiff. Six months later, Black answers interrogatories sent to him by Williams, denying that he was the arresting officer. Darrow investigates, confirms from other witnesses that White was the arresting officer, and moves to amend to name White as the defendant in the action. The amendment, if allowed, will likely not relate back, because it was filed after the limitations period had passed and White was not on notice that he was the intended target of Williams’s suit. 1',\n",
       " 'A party who sues a defendant on a claim within the limitations period may change theories.<n>The amended allegations will ‘‘relate back’’ to the date the original complaint was filed. 7. Black and White. Williams is roughed up during an arrest by a police officer and suffers a broken wrist that doesn’t heal right. Williams consults Darrow, a lawyer, who brings a federal civil rights action for his injury. Darrow obtains the police report of the arrest, which lists Officer Black as the arresting officer. Darrow names Black as the defendant. Suit is filed one month before the limitations period runs. In fact, it wasn’t Black who arrested Williams, it was Officer White. The report, filled out by the booking officer, was simply mistaken. Within a few days, every officer in the precinct, including White, became aware that Black had been sued by an arrestee for excessive force, though they were not aware of the specific circumstances of the case or the identity of the plaintiff. Six months later, Black answers interrogatories sent to him by Williams, denying that he was the arresting officer. Darrow investigates, confirms from other witnesses that White was the arresting officer, and moves to amend to name White as the defendant in the action. The amendment, if allowed, will likely relate back, because White was aware, before the passage of the limitations period, that Black had been sued. 0',\n",
       " 'A party who sues a defendant on a claim within the limitations period may change theories.<n>The amended allegations will ‘‘relate back’’ to the date the original complaint was filed. 7. Black and White. Williams is roughed up during an arrest by a police officer and suffers a broken wrist that doesn’t heal right. Williams consults Darrow, a lawyer, who brings a federal civil rights action for his injury. Darrow obtains the police report of the arrest, which lists Officer Black as the arresting officer. Darrow names Black as the defendant. Suit is filed one month before the limitations period runs. In fact, it wasn’t Black who arrested Williams, it was Officer White. The report, filled out by the booking officer, was simply mistaken. Within a few days, every officer in the precinct, including White, became aware that Black had been sued by an arrestee for excessive force, though they were not aware of the specific circumstances of the case or the identity of the plaintiff. Six months later, Black answers interrogatories sent to him by Williams, denying that he was the arresting officer. Darrow investigates, confirms from other witnesses that White was the arresting officer, and moves to amend to name White as the defendant in the action. The amendment, if allowed, will likely relate back, because it arises out of the same arrest alleged in the initial complaint. 0',\n",
       " 'Rule 11(c)(2) is often referred to as the ‘‘safe harbor’’ provision of Rule 11.<n>This subsection is intended to limit court time spent on sanctions motions.<n>One wonders, however, if the practice matches the theory. 6. The unsafe harbor. Withers sues Rendoso in federal court in East Dakota for negligent indirect infliction of emotional distress, claiming that he suffered severe distress from witnessing an accident in which a friend was seriously injured. Rendoso moves to dismiss the claim under Rule 12(b) (6) for failure to state a claim, citing two recent cases from the East Dakota Supreme Court that quite clearly limit the right to recover for indirect infliction to close family members. The court enters an order dismissing the claim. Rendoso now moves for sanctions under Rule 11(b)(2), on the ground that the legal position taken in Withers’s complaint was frivolous. The court will likely deny the motion, because the court can only impose sanctions if the paper was challenged under the Rule 11(c)(2) procedure. 0',\n",
       " 'There’s a lot more to Rule 11 than we have covered so far.<n>Let’s round out the discussion with a Closer that—if you want to nail it—will force you do something many of my students resist to the teeth—to actually read the rule.<n>The answers to this Closer are all tucked in there somewhere. Think of it as a litigator’s treasure hunt. 7. Fudd-ging Rule 11. Which of the following orders of Judge Fudd would be authorized by Rule 11? Norris, lawyer for the plaintiff Conowitz, files a complaint seeking recovery on behalf of Conowitz for indirect infliction of emotional distress Conowitz suffered from witnessing injury to a stranger. Norris alleges in the complaint that the law allows recovery for this. However, a recent decision from the state’s highest court clearly bars recovery for indirect infliction unless the direct victim of the accident was a family member. Judge Fudd imposes a monetary sanction on Conowitz for the filing. 0',\n",
       " 'There’s a lot more to Rule 11 than we have covered so far.<n>Let’s round out the discussion with a Closer that—if you want to nail it—will force you do something many of my students resist to the teeth—to actually read the rule.<n>The answers to this Closer are all tucked in there somewhere. Think of it as a litigator’s treasure hunt. 7. Fudd-ging Rule 11. Which of the following orders of Judge Fudd would be authorized by Rule 11? Norris, lawyer for the plaintiff Conowitz, files a complaint seeking recovery on behalf of Conowitz for indirect infliction of emotional distress. Conowitz suffered severe emotional distress from witnessing a serious injury to a stranger. Recent decisions from the state’s highest court clearly bar recover for indirect infliction unless the direct victim of the accident was a family member. Judge Fudd imposes a monetary sanction on Becker and Danang, Norris’s law partners, for the filing. 0',\n",
       " 'The special appearance was the common law’s rather formalistic approach to raising objections to personal jurisdiction.<n>In the federal courts, and in the many states that have modeled their procedural rules after the Federal Rules of Civil Procedure, objections to personal jurisdiction are governed by Rule 12.<n>The major difference, however, is that a defendant who moves to dismiss in federal court under Rule 12 for lack of jurisdiction may, in the same motion, assert other pre-answer defenses. 8. Something special. Goloupolos sues Hue in state court, in a state that uses the special appearance approach to objections to personal jurisdiction. Hue responds by filing an objection in the state court to personal jurisdiction, and a motion to dismiss the case for failure to state a claim. Five days later, before the court rules on his objections, he removes the action to federal court. After removal, he moves to dismiss, on the ground that the court lacks personal jurisdiction over him. Goloupolos argues that the defense has been waived. The court will probably rule that Hue has waived the objection to personal jurisdiction, because he invoked the federal court’s jurisdiction by removing the case. 0',\n",
       " 'The special appearance was the common law’s rather formalistic approach to raising objections to personal jurisdiction.<n>In the federal courts, and in the many states that have modeled their procedural rules after the Federal Rules of Civil Procedure, objections to personal jurisdiction are governed by Rule 12.<n>The major difference, however, is that a defendant who moves to dismiss in federal court under Rule 12 for lack of jurisdiction may, in the same motion, assert other pre-answer defenses. 8. Something special. Goloupolos sues Hue in state court, in a state that uses the special appearance approach to objections to personal jurisdiction. Hue responds by filing an objection in the state court to personal jurisdiction, and a motion to dismiss the case for failure to state a claim. Five days later, before the court rules on his objections, he removes the action to federal court. After removal, he moves to dismiss, on the ground that the court lacks personal jurisdiction over him. Goloupolos argues that the defense has been waived. The court will probably rule that Hue has waived the objection to personal jurisdiction, because his state court response constituted a general appearance. 1',\n",
       " 'The special appearance was the common law’s rather formalistic approach to raising objections to personal jurisdiction.<n>In the federal courts, and in the many states that have modeled their procedural rules after the Federal Rules of Civil Procedure, objections to personal jurisdiction are governed by Rule 12.<n>The major difference, however, is that a defendant who moves to dismiss in federal court under Rule 12 for lack of jurisdiction may, in the same motion, assert other pre-answer defenses. 8. Something special. Goloupolos sues Hue in state court, in a state that uses the special appearance approach to objections to personal jurisdiction. Hue responds by filing an objection in the state court to personal jurisdiction, and a motion to dismiss the case for failure to state a claim. Five days later, before the court rules on his objections, he removes the action to federal court. After removal, he moves to dismiss, on the ground that the court lacks personal jurisdiction over him. Goloupolos argues that the defense has been waived. The court will probably rule that Hue has not waived the objection to personal jurisdiction, since under Federal Rule 12 it can be combined with other objections in an answer. 0',\n",
       " 'The special appearance was the common law’s rather formalistic approach to raising objections to personal jurisdiction.<n>In the federal courts, and in the many states that have modeled their procedural rules after the Federal Rules of Civil Procedure, objections to personal jurisdiction are governed by Rule 12.<n>The major difference, however, is that a defendant who moves to dismiss in federal court under Rule 12 for lack of jurisdiction may, in the same motion, assert other pre-answer defenses. 8. Something special. Goloupolos sues Hue in state court, in a state that uses the special appearance approach to objections to personal jurisdiction. Hue responds by filing an objection in the state court to personal jurisdiction, and a motion to dismiss the case for failure to state a claim. Five days later, before the court rules on his objections, he removes the action to federal court. After removal, he moves to dismiss, on the ground that the court lacks personal jurisdiction over him. Goloupolos argues that the defense has been waived. The court will probably rule that Hue has not waived the personal jurisdiction objection, because under Federal Rule 12(b) these two defenses may be asserted together in a pre-answer motion. 0',\n",
       " 'In Hickman v. Taylor, 329 U.S. 495 (1947), the Supreme Court held that such ‘‘attorney work product’’ should be protected from disclosure.<n>In 1970, Rule 26(b)(3), entitled ‘‘Trial Preparation: Materials’’ was added to the Federal Rules. 7. Presumptuous presumptions. Mason sues Drake in federal court for negligently causing a fire in her warehouse in Boston. A week after the fire, Mason’s attorney locates and interviews Collins, who was drinking wine behind the warehouse at the time of the fire. Collins says he and Engels saw someone who looked like Drake speed away from the fire just after it began. Mason’s counsel made an audio recording of the interview with Collins. Collins lives in Boston, within the district in which the suit is pending. Drake’s attorney had asked Collins to come in to discuss the case informally with him, but Collins refused. Drake serves interrogatories on Mason asking Mason to ‘‘state the names of any witnesses who may have knowledge of the events giving rise to this action.’’ He also sends a request for documents, which requires Mason to ‘‘produce any statements you or your attorney have from any witness regarding the cause of the fire.’’ Mason’s counsel responds by objecting to both the interrogatory and the request on the ground of ‘‘work product.’’ Which of the following statements is true? Mason must answer the interrogatory, but the request for production of the tape is probably protected from disclosure under Rule 26(b)(3). 1',\n",
       " 'In Hickman v. Taylor, 329 U.S. 495 (1947), the Supreme Court held that such ‘‘attorney work product’’ should be protected from disclosure.<n>In 1970, Rule 26(b)(3), entitled ‘‘Trial Preparation: Materials’’ was added to the Federal Rules. 7. Presumptuous presumptions. Mason sues Drake in federal court for negligently causing a fire in her warehouse in Boston. A week after the fire, Mason’s attorney locates and interviews Collins, who was drinking wine behind the warehouse at the time of the fire. Collins says he and Engels saw someone who looked like Drake speed away from the fire just after it began. Mason’s counsel made an audio recording of the interview with Collins. Collins lives in Boston, within the district in which the suit is pending. Drake’s attorney had asked Collins to come in to discuss the case informally with him, but Collins refused. Drake serves interrogatories on Mason asking Mason to ‘‘state the names of any witnesses who may have knowledge of the events giving rise to this action.’’ He also sends a request for documents, which requires Mason to ‘‘produce any statements you or your attorney have from any witness regarding the cause of the fire.’’ Mason’s counsel responds by objecting to both the interrogatory and the request on the ground of ‘‘work product.’’ Which of the following statements is true? Mason must produce the tape under Rule 26(b)(3)(C), because it contains the statement of a witness. 0',\n",
       " 'Rule 26(b)(1) governs the scope of discovery through each of the discovery devices.<n>Prior to an amendment in 2000, Rule 26(b)(1) allowed discovery of ‘‘any matter, not privileged, relevant to the subject matter involved in the pending action’’ 8. Exceeding the limits? Sorenson sues Marathon Corporation in federal court for the fee he had earned as the broker after he had assisted Marathon in acquiring a family business. He seeks his commission, damages for fraud, and statutory damages under a state statute. DeMarco, Sorenson’s counsel, takes the deposition of Sanchez, an independent accountant who audited Marathon’s business, and had been involved in the negotiations and planning for the acquisition. At the outset of the deposition, DeMarco asks Sanchez whether the company’s lawyers, in preparing him for his deposition, had noted any particularly problematic issues they expected to come up at the deposition, and what areas of inquiry they had spent most of their time discussing. Marathon’s counsel objects based on the work product doctrine and attorney-client privilege. The objection should probably be sustained, based on the attorney-client privilege. 0',\n",
       " 'The basic rule is that a plaintiff can add up the amounts for all her claims against a single defendant, whether they are related or not.<n>The situation is less clear where two plaintiffs join together to sue a defendant, and one sues for more than $75,000 but the other for less.<n>Prior to enactment of 28 U.S.C. 1367, the supplemental jurisdiction statute, the answer was clear: each plaintiff had to meet the amount requirement on her own. 10. Aggravation of damages. Maurice sues O’Connell in federal court based on diversity jurisdiction, seeking recovery on a libel claim for $25,000 and an unrelated negligence claim, for $65,000. He also joins Parker as a codefendant on the negligence claim, seeking his $65,000 in negligence damages from Parker. Assume that Maurice’s claims do not involve a ‘‘common undivided interest.’’ Maurice meets the amount-in-controversy requirement against both defendants, as long as the claim against Parker arises from the same events as that against O’Connell. 0',\n",
       " 'Basic rule is that a plaintiff can add up the amounts for all her claims against a single defendant.<n>Previously, each plaintiff had to meet the amount requirement on her own.<n>Now, however, 28 U.S.C. 1367 has changed this result in the multiple- plaintiff situation. 10. Aggravation of damages. Maurice sues O’Connell in federal court based on diversity jurisdiction, seeking recovery on a libel claim for $25,000 and an unrelated negligence claim, for $65,000. He also joins Parker as a codefendant on the negligence claim, seeking his $65,000 in negligence damages from Parker. Assume that Maurice’s claims do not involve a ‘‘common undivided interest.’’ Maurice does not meet the amount-in-controversy requirement against either defendant. 0',\n",
       " 'Basic rule is that a plaintiff can add up the amounts for all her claims against a single defendant.<n>Previously, each plaintiff had to meet the amount requirement on her own.<n>Now, however, 28 U.S.C. 1367 has changed this result in the multiple- plaintiff situation. 11. Stooges do the math. In which of the following cases can all the claims properly be brought in federal court (assume that the traditional aggregation rules apply)? Larry and Moe (both from New York) sue Curly (from Iowa) for negligence. Larry seeks $60,000 for his injuries in the accident and Moe seeks $25,000 for his. 0',\n",
       " 'Basic rule is that a plaintiff can add up the amounts for all her claims against a single defendant.<n>Previously, each plaintiff had to meet the amount requirement on her own.<n>Now, however, 28 U.S.C. 1367 has changed this result in the multiple- plaintiff situation. 11. Stooges do the math. In which of the following cases can all the claims properly be brought in federal court (assume that the traditional aggregation rules apply)? Larry (from New York) sues Curly (from Iowa) for his injuries in an accident, seeking $60,000. Curly counterclaims for $100,000 for his injuries. 0',\n",
       " 'Basic rule is that a plaintiff can add up the amounts for all her claims against a single defendant.<n>Previously, each plaintiff had to meet the amount requirement on her own.<n>Now, however, 28 U.S.C. 1367 has changed this result in the multiple- plaintiff situation. 11. Stooges do the math. In which of the following cases can all the claims properly be brought in federal court (assume that the traditional aggregation rules apply)? Larry (from New York) sues Curly and Moe, two Iowa citizens, for injuries he suffered when Curly and Moe’s cars collided. He claims that one or the other, or both, were negligent, and seeks $100,000 in damages for his injuries. 1',\n",
       " 'In large scale litigation these days, many problems are posed by the fact that the ‘‘Documents’’ parties need are in electronic form.<n>Federal Rules now contain several provisions to assist judges in handling the problems posed by electronic discovery. 8. Gimme, Gimme! Black Corporation sues White Corporation for patent infringement. The case involves very large numbers of files, some electronic, others in print, that contain technical data about the development of a complex turbine for generating energy from the tides. After Black produces its files in response to White’s request for production, it discovers that it has mistakenly produced to White’s lawyers a hard copy of a memo written by its chief engineer, Pasco. Pasco wrote the memo after the suit was filed, offering her assessment to Black’s board of directors of the overlap between Black’s turbine design and White’s, to assist the board in deciding whether to litigate or settle the case. Shortly after producing it, Black’s lawyers ask for it back, claiming that it is protected as work product and citing Fed. R. Civ. P. 26(b)(5)(B). That rule does not apply to work product material, just to privilege objections. 0',\n",
       " 'Depositions are the most effective means of previewing the detailed testimony of witnesses.<n>In some cases a party may depose a witness in order to obtain the party’s testimony for use at trial. 9. Your witness. Czonka is fired from his job at fifty-nine, after twenty-one years with NorthStar Corporation. He sues in federal court under the Federal Age Discrimination in Employment Act (ADEA), claiming that he was fired based on his age. Two months after filing suit, Czonka’s counsel learns that Roh, one of his supervisors at NorthStar, has just retired, and is about to move to South Korea. Although discovery has just begun, NorthStar has noticed Roh’s deposition. Czonka’s counsel should prepare as fully as possible for the deposition, and cross-examine Roh as if she were doing so at trial. 1',\n",
       " 'Depositions are the most effective means of previewing the detailed testimony of witnesses.<n>In some cases a party may depose a witness in order to obtain the party’s testimony for use at trial. 9. Your witness. Czonka is fired from his job at fifty-nine, after twenty-one years with NorthStar Corporation. He sues in federal court under the Federal Age Discrimination in Employment Act (ADEA), claiming that he was fired based on his age. Two months after filing suit, Czonka’s counsel learns that Roh, one of his supervisors at NorthStar, has just retired, and is about to move to South Korea. Although discovery has just begun, NorthStar has noticed Roh’s deposition. Czonka’s counsel should object and move for a protective order under Rule 26(c), on the ground that discovery has just begun, so that she is not yet prepared to cross-examine Roh at the deposition. 0',\n",
       " 'Depositions are the most effective means of previewing the detailed testimony of witnesses.<n>In some cases a party may depose a witness in order to obtain the party’s testimony for use at trial. 9. Your witness. Czonka is fired from his job at fifty-nine, after twenty-one years with NorthStar Corporation. He sues in federal court under the Federal Age Discrimination in Employment Act (ADEA), claiming that he was fired based on his age. Two months after filing suit, Czonka’s counsel learns that Roh, one of his supervisors at NorthStar, has just retired, and is about to move to South Korea. Although discovery has just begun, NorthStar has noticed Roh’s deposition. Czonka’s counsel should attend the deposition, but not cross-examine Roh, if Roh is willing to talk privately to her about the case. 0',\n",
       " 'The plaintiff may seek summary judgment as well, under the same standard: that there is no genuine issue of material fact and she is entitled to judgment as a matter of law.<n>The effect of summary judgment for the plaintiff is often different from the grant of the motion for a defendant. 8. Insulation from liability. Maxwell sues Chao for breach of a contract to insulate Chao’s house. He alleges that they had a contract, and that he did the work, but Chao refused to pay the agreed price for the work. Maxwell seeks recovery in the alternative on a quantum meruit theory. Chao denies that Maxwell can sue for breach of contract, because the writing Maxwell relies on as the contract—a scribbled note indicating the price for the job—fails to satisfy the requirements for a valid contract under the relevant statute of frauds. Chao also claims that the insulation used was substandard and improperly installed. Maxwell moves for summary judgment on the question of whether the parties had a contract. In support of his motion, he submits the scribbled note itself, an affidavit attesting that it was signed by Chao in his presence, and a brief arguing that the note is sufficient to constitute a binding contract under the statute of frauds. Chao submits no opposing materials, but submits a brief arguing that the note does not constitute a contract, because the terms are insufficiently described in it. If the judge concludes that the note constitutes a valid contract, Maxwell is ‘‘entitled to judgment as a matter of law.’’ She should enter judgment for Maxwell for the damages sought in the complaint. 0',\n",
       " 'The plaintiff may seek summary judgment as well, under the same standard: that there is no genuine issue of material fact and she is entitled to judgment as a matter of law.<n>The effect of summary judgment for the plaintiff is often different from the grant of the motion for a defendant. 8. Insulation from liability. Maxwell sues Chao for breach of a contract to insulate Chao’s house. He alleges that they had a contract, and that he did the work, but Chao refused to pay the agreed price for the work. Maxwell seeks recovery in the alternative on a quantum meruit theory. Chao denies that Maxwell can sue for breach of contract, because the writing Maxwell relies on as the contract—a scribbled note indicating the price for the job—fails to satisfy the requirements for a valid contract under the relevant statute of frauds. Chao also claims that the insulation used was substandard and improperly installed. Maxwell moves for summary judgment on the question of whether the parties had a contract. In support of his motion, he submits the scribbled note itself, an affidavit attesting that it was signed by Chao in his presence, and a brief arguing that the note is sufficient to constitute a binding contract under the statute of frauds. Chao submits no opposing materials, but submits a brief arguing that the note does not constitute a contract, because the terms are insufficiently described in it. If the judge concludes that the note does not meet the requirements of a valid contract, she should enter a final judgment for Chao, dismissing Maxwell’s case. 0',\n",
       " 'The plaintiff may seek summary judgment as well, under the same standard: that there is no genuine issue of material fact and she is entitled to judgment as a matter of law.<n>The effect of summary judgment for the plaintiff is often different from the grant of the motion for a defendant. 8. Insulation from liability. Maxwell sues Chao for breach of a contract to insulate Chao’s house. He alleges that they had a contract, and that he did the work, but Chao refused to pay the agreed price for the work. Maxwell seeks recovery in the alternative on a quantum meruit theory. Chao denies that Maxwell can sue for breach of contract, because the writing Maxwell relies on as the contract—a scribbled note indicating the price for the job—fails to satisfy the requirements for a valid contract under the relevant statute of frauds. Chao also claims that the insulation used was substandard and improperly installed. Maxwell moves for summary judgment on the question of whether the parties had a contract. In support of his motion, he submits the scribbled note itself, an affidavit attesting that it was signed by Chao in his presence, and a brief arguing that the note is sufficient to constitute a binding contract under the statute of frauds. Chao submits no opposing materials, but submits a brief arguing that the note does not constitute a contract, because the terms are insufficiently described in it. The judge should grant Maxwell’s motion, because Chao has not submitted any evidence contradicting Maxwell’s supporting materials. 0',\n",
       " 'The plaintiff may seek summary judgment as well, under the same standard: that there is no genuine issue of material fact and she is entitled to judgment as a matter of law.<n>The effect of summary judgment for the plaintiff is often different from the grant of the motion for a defendant. 8. Insulation from liability. Maxwell sues Chao for breach of a contract to insulate Chao’s house. He alleges that they had a contract, and that he did the work, but Chao refused to pay the agreed price for the work. Maxwell seeks recovery in the alternative on a quantum meruit theory. Chao denies that Maxwell can sue for breach of contract, because the writing Maxwell relies on as the contract—a scribbled note indicating the price for the job—fails to satisfy the requirements for a valid contract under the relevant statute of frauds. Chao also claims that the insulation used was substandard and improperly installed. Maxwell moves for summary judgment on the question of whether the parties had a contract. In support of his motion, he submits the scribbled note itself, an affidavit attesting that it was signed by Chao in his presence, and a brief arguing that the note is sufficient to constitute a binding contract under the statute of frauds. Chao submits no opposing materials, but submits a brief arguing that the note does not constitute a contract, because the terms are insufficiently described in it. If the judge concludes that the note meets the requirements of a valid contract, she should enter partial summary judgment for Maxwell on the issue of the validity of the written contract. 1',\n",
       " 'Rule 50(b) provides that, if a motion for a judgment as a matter of law is denied, the motion may be renewed no later than twenty-eight days after entry of judgment.<n>The Supreme Court held, in a dubious decision, that reconsidering the jury’s verdict violates the Seventh Amendment right to jury trial. 7. Second time around. Uberoth, a venture capitalist, sues Colon, an investment broker, in federal court. He alleges that Colon fraudulently induced Uberoth to invest in an internet start-up company, by knowingly making false statements about its prospects and the backgrounds of its officers. The case goes to trial. At the close of the evidence, Colon moves for a judgment as a matter of law, on the ground that Uberoth has not produced enough evidence to support a verdict that Colon knew, at the time he made the statements, that they were false. The judge denies the motion, and the jury subsequently returns a verdict finding Colon liable for the misrepresentation. After the jury’s verdict, but before a judgment has been entered on the verdict, Colon moves for judgment notwithstanding the verdict. He argues that Uberoth had produced no evidence that he had actually relied on Colon’s statements about the company’s prospects in making his investment. Reliance on the defendant’s misrepresentation is a required element of a claim for negligent misrepresentation. The trial judge should deny Colon’s motion, since it was made on a different ground from that raised in Colon’s prior motion for judgment as a matter of law. 1',\n",
       " 'Rule 50(b) provides that, if a motion for a judgment as a matter of law is denied, the motion may be renewed no later than twenty-eight days after entry of judgment.<n>The Supreme Court held, in a dubious decision, that reconsidering the jury’s verdict violates the Seventh Amendment right to jury trial. 7. Second time around. Uberoth, a venture capitalist, sues Colon, an investment broker, in federal court. He alleges that Colon fraudulently induced Uberoth to invest in an internet start-up company, by knowingly making false statements about its prospects and the backgrounds of its officers. The case goes to trial. At the close of the evidence, Colon moves for a judgment as a matter of law, on the ground that Uberoth has not produced enough evidence to support a verdict that Colon knew, at the time he made the statements, that they were false. The judge denies the motion, and the jury subsequently returns a verdict finding Colon liable for the misrepresentation. After the jury’s verdict, but before a judgment has been entered on the verdict, Colon moves for judgment notwithstanding the verdict. He argues that Uberoth had produced no evidence that he had actually relied on Colon’s statements about the company’s prospects in making his investment. Reliance on the defendant’s misrepresentation is a required element of a claim for negligent misrepresentation. The trial judge should deny the motion, since she already determined, by denying the prior motion, that Uberoth’s evidence was sufficient to go to the jury. 0',\n",
       " 'Rule 50(b) provides that, if a motion for a judgment as a matter of law is denied, the motion may be renewed no later than twenty-eight days after entry of judgment.<n>The Supreme Court held, in a dubious decision, that reconsidering the jury’s verdict violates the Seventh Amendment right to jury trial. 7. Second time around. Uberoth, a venture capitalist, sues Colon, an investment broker, in federal court. He alleges that Colon fraudulently induced Uberoth to invest in an internet start-up company, by knowingly making false statements about its prospects and the backgrounds of its officers. The case goes to trial. At the close of the evidence, Colon moves for a judgment as a matter of law, on the ground that Uberoth has not produced enough evidence to support a verdict that Colon knew, at the time he made the statements, that they were false. The judge denies the motion, and the jury subsequently returns a verdict finding Colon liable for the misrepresentation. After the jury’s verdict, but before a judgment has been entered on the verdict, Colon moves for judgment notwithstanding the verdict. He argues that Uberoth had produced no evidence that he had actually relied on Colon’s statements about the company’s prospects in making his investment. Reliance on the defendant’s misrepresentation is a required element of a claim for negligent misrepresentation. The trial judge should grant the motion if she concludes that no reasonable jury could conclude that Uberoth relied on Colon’s statements in making the investment. 0',\n",
       " 'Federal Rule 50(c) deals with such combined motions.<n>It requires the judge to rule on both motions.<n>If there is an appeal, the appellate court can review all of the trial judge’s rulings in a single, consolidated appeal. 7. Interim finality. Parkins sues Orwell Corporation in federal court under the Federal Age Discrimination in Employment Act. At trial, Orwell moves for judgment as a matter of law under Rule 50(a) before the case goes to the jury. The motion is denied. The jury finds for Parkins. Orwell then moves for judgment as a matter of law under Rule 50(b) and in the alternative for a new trial on the ground that the jury’s verdict was against the great weight of the evidence. The judge grants Orwell’s motion for judgment as a matter of law, and conditionally grants the motion for a new trial as well, on the ground that the verdict is against the great weight of the evidence. Parkins may appeal, but only the grant of the motion for judgment as a matter of law, because the grant of the new trial was conditional. 0',\n",
       " 'Federal Rule 50(c) deals with such combined motions.<n>It requires the judge to rule on both motions.<n>If there is an appeal, the appellate court can review all of the trial judge’s rulings in a single, consolidated appeal. 7. Interim finality. Parkins sues Orwell Corporation in federal court under the Federal Age Discrimination in Employment Act. At trial, Orwell moves for judgment as a matter of law under Rule 50(a) before the case goes to the jury. The motion is denied. The jury finds for Parkins. Orwell then moves for judgment as a matter of law under Rule 50(b) and in the alternative for a new trial on the ground that the jury’s verdict was against the great weight of the evidence. The judge grants Orwell’s motion for judgment as a matter of law, and conditionally grants the motion for a new trial as well, on the ground that the verdict is against the great weight of the evidence. Parkins may not appeal now, because the grant of the new trial prevents the judgment from being final. The case will be scheduled for a second trial. 0',\n",
       " 'Federal Rule 50(c) deals with such combined motions.<n>It requires the judge to rule on both motions.<n>If there is an appeal, the appellate court can review all of the trial judge’s rulings in a single, consolidated appeal. 7. Interim finality. Parkins sues Orwell Corporation in federal court under the Federal Age Discrimination in Employment Act. At trial, Orwell moves for judgment as a matter of law under Rule 50(a) before the case goes to the jury. The motion is denied. The jury finds for Parkins. Orwell then moves for judgment as a matter of law under Rule 50(b) and in the alternative for a new trial on the ground that the jury’s verdict was against the great weight of the evidence. The judge grants Orwell’s motion for judgment as a matter of law, and conditionally grants the motion for a new trial as well, on the ground that the verdict is against the great weight of the evidence. Parkins may appeal the grant of judgment as a matter of law, but not the decision to grant the new trial, since the new trial has not yet taken place. 0',\n",
       " 'A frequent claim preclusion scenario involves a plaintiff who sues in federal court on federal claims, and then brings a later action in state court on related state law claims.<n>A court in one system will give the same res judicata effect to a judgment that it would be given in the court that rendered it. 7. Round One. Pelham sues Correro, a police officer who arrested him. He brings suit in federal court under 42 U.S.C. §1983, a federal statute that authorizes suits against persons acting on behalf of the state for violation of federal civil rights. Pelham alleges that Correro’s conduct in using excessive force in making the arrest violated his Fourth and Fourteenth Amendment rights. He loses, because the federal court determines that Correro is entitled to qualified immunity from liability on the federal civil rights claim. Subsequently, Pelham sues Correro in state court for assault and battery, based on the same conduct that gave rise to his federal civil rights action. Assume that the state court uses a narrower, ‘‘primary rights’’ approach to claim preclusion, that the assault and battery claims, under that approach, would be viewed as based on different primary rights from the federal civil rights claim and could be brought in a separate action. Pelham’s second action will not be barred, because he could not have asserted his state law claims in the initial suit. 0',\n",
       " 'A frequent claim preclusion scenario involves a plaintiff who sues in federal court on federal claims, and then brings a later action in state court on related state law claims.<n>A court in one system will give the same res judicata effect to a judgment that it would be given in the court that rendered it. 7. Round One. Pelham sues Correro, a police officer who arrested him. He brings suit in federal court under 42 U.S.C. §1983, a federal statute that authorizes suits against persons acting on behalf of the state for violation of federal civil rights. Pelham alleges that Correro’s conduct in using excessive force in making the arrest violated his Fourth and Fourteenth Amendment rights. He loses, because the federal court determines that Correro is entitled to qualified immunity from liability on the federal civil rights claim. Subsequently, Pelham sues Correro in state court for assault and battery, based on the same conduct that gave rise to his federal civil rights action. Assume that the state court uses a narrower, ‘‘primary rights’’ approach to claim preclusion, that the assault and battery claims, under that approach, would be viewed as based on different primary rights from the federal civil rights claim and could be brought in a separate action. Pelham’s second action will be barred, because he could have joined the state law claims in the initial action and they are part of the ‘‘same claim’’ under the Second Restatement approach to claim preclusion. 1',\n",
       " 'A frequent claim preclusion scenario involves a plaintiff who sues in federal court on federal claims, and then brings a later action in state court on related state law claims.<n>A court in one system will give the same res judicata effect to a judgment that it would be given in the court that rendered it. 7. Round One. Pelham sues Correro, a police officer who arrested him. He brings suit in federal court under 42 U.S.C. §1983, a federal statute that authorizes suits against persons acting on behalf of the state for violation of federal civil rights. Pelham alleges that Correro’s conduct in using excessive force in making the arrest violated his Fourth and Fourteenth Amendment rights. He loses, because the federal court determines that Correro is entitled to qualified immunity from liability on the federal civil rights claim. Subsequently, Pelham sues Correro in state court for assault and battery, based on the same conduct that gave rise to his federal civil rights action. Assume that the state court uses a narrower, ‘‘primary rights’’ approach to claim preclusion, that the assault and battery claims, under that approach, would be viewed as based on different primary rights from the federal civil rights claim and could be brought in a separate action. Pelham’s second action will not be barred, because the state court will view his assault and battery claims as based on different primary rights from the claims asserted in his first action. 0',\n",
       " 'Cambria v. Jeffrey, 307 Mass. 49 (1940), provides a classic example of the problem.<n>Under the contributory negligence doctrine, a plaintiff who was partially at fault in causing the accident could not recover.<n>Because the judge in the first action never had to decide whether Jeffrey was negligent, that finding was a form of dicta. 9. Triple play. Perez sues the City of Atlantis, alleging that the mayor violated his First Amendment rights by demoting him from his city job to a lower-paying one because he had supported Appolonia, the losing candidate for mayor in the 2018 election. The City raises three defenses. It denies that Perez was demoted, arguing that he was transferred to an equivalent position. Second, it claims that the mayor never believed that Perez supported Appolonia, so could not have discriminated against him on that basis. Last, it claims that Perez had waived any claim for demotion when he agreed to accept his new position. The case went to trial on all three issues. The jury rendered a general verdict, finding the City liable to Perez for violating his First Amendment rights. A year later, Perez is fired. He sues again, claiming that he was fired in violation of his First Amendment rights, because the mayor believed he had supported Appolonia in the 2018 election. Perez may not estop the City from relitigating whether the mayor believed that Perez had supported Appolonia. Since the City raised three defenses, we cannot tell which findings were necessary to the judgment in the first case. 0',\n",
       " 'An issue previously litigated and decided may arise in later litigation involving a new party as well.<n>In a non-mutuality jurisdiction, estoppel can be used against a party who litigated and lost on an issue in the first suit. 10. First Principles. Gotchall invested one million dollars with Faithful Investments Inc., on the basis of a brochure describing its mutual fund. Later, he sued Faithful in federal court. He claimed that Faithful’s brochure promised a return of at least 15 percent. Faithful denied this, arguing that the materials were ambiguous about the likely return. After a trial without a jury, the judge found that the brochure did not guarantee any particular rate of return. She therefore entered judgment dismissing Gotschall’s claim for damages. Later, Carmichael, who had also invested in the fund, sued Faithful for damages, basing his claim on the same argument as Gotschall’s, that Faithful’s brochure promised a return of at least 15 percent. Faithful moves for summary judgment, arguing that Carmichael is estopped from proving that the brochure misrepresented the likely return, since the judge had found for Faithful on the issue in the first suit. The court should hold that Carmichael’s claim is barred, because he should have joined as a coplaintiff with Gotschall in the prior action. 0',\n",
       " 'An issue previously litigated and decided may arise in later litigation involving a new party as well.<n>In a non-mutuality jurisdiction, estoppel can be used against a party who litigated and lost on an issue in the first suit. 10. First Principles. Gotchall invested one million dollars with Faithful Investments Inc., on the basis of a brochure describing its mutual fund. Later, he sued Faithful in federal court. He claimed that Faithful’s brochure promised a return of at least 15 percent. Faithful denied this, arguing that the materials were ambiguous about the likely return. After a trial without a jury, the judge found that the brochure did not guarantee any particular rate of return. She therefore entered judgment dismissing Gotschall’s claim for damages. Later, Carmichael, who had also invested in the fund, sued Faithful for damages, basing his claim on the same argument as Gotschall’s, that Faithful’s brochure promised a return of at least 15 percent. Faithful moves for summary judgment, arguing that Carmichael is estopped from proving that the brochure misrepresented the likely return, since the judge had found for Faithful on the issue in the first suit. The court should hold that Carmichael’s claim is barred, because the issue was litigated in the prior action, decided in favor of Faithful, and the issue was necessary to the judgment in the prior action. 0',\n",
       " 'An issue previously litigated and decided may arise in later litigation involving a new party as well.<n>In a non-mutuality jurisdiction, estoppel can be used against a party who litigated and lost on an issue in the first suit. 10. First Principles. Gotchall invested one million dollars with Faithful Investments Inc., on the basis of a brochure describing its mutual fund. Later, he sued Faithful in federal court. He claimed that Faithful’s brochure promised a return of at least 15 percent. Faithful denied this, arguing that the materials were ambiguous about the likely return. After a trial without a jury, the judge found that the brochure did not guarantee any particular rate of return. She therefore entered judgment dismissing Gotschall’s claim for damages. Later, Carmichael, who had also invested in the fund, sued Faithful for damages, basing his claim on the same argument as Gotschall’s, that Faithful’s brochure promised a return of at least 15 percent. Faithful moves for summary judgment, arguing that Carmichael is estopped from proving that the brochure misrepresented the likely return, since the judge had found for Faithful on the issue in the first suit. The court should hold that Carmichael’s claim is not barred, because the finding that the brochure did not promise a particular rate of return was not necessary to the judgment in the prior action. 0',\n",
       " 'A plaintiff who has asserted one substantial claim that properly invokes federal jurisdiction may have her entire dispute heard in federal court.<n>The Supreme Court has held that where the plaintiff asserts a claim that properly supports federal court jurisdiction, it is constitutionally permissible for the federal court to hear the entire dispute. 9. Tagging along. Isaacs, a Montana citizen, sues United Tool and Die Corporation, incorporated in Delaware with its principal place of business in Montana, under the Federal Age Discrimination in Employment Act (ADEA). He sues in federal court. Isaacs claims that United fired him because of his age, replacing him with a younger employee. Isaacs also asserts a second claim in his complaint, alleging that firing him constituted a breach of his contract of employment. He asserts a third claim in the complaint, alleging that, a year before he was fired, United had misappropriated a design he created for a new grinding wheel. Isaacs claimed he had invented the wheel on his own, not in the course of his employment, so that United had no right to exploit the idea without his consent. The federal court has subject matter jurisdiction over the first two claims, but not the third. 1',\n",
       " 'Parties cannot consent to the federal court hearing a case over which it lacks jurisdiction.<n>Even if none of the parties asserts an objection to the court’s power to hear the case, the court will dismiss on its own motion if it appears that there is no jurisdiction over the case. 10. Second thoughts. Taney, from Wisconsin, sues Ivanov, his Wisconsin landlord, for damages suffered when the house he rented from Ivanov collapsed. He alleges that Ivanov was negligent in failing to comply with federal structural standards applicable to buildings offered for rent to tenants subsidized under the Federal Housing Act. Ivanov answers the complaint denying liability, and the parties proceed to engage in discovery. Ten months later, Taney becomes disenchanted with the federal judge assigned to hear the case. Since he has some doubt as to whether his claim meets arising-under standards, he moves to dismiss the suit for lack of subject matter jurisdiction, claiming that the case does not arise under federal law. The motion should be denied, if the case ‘‘arises under’’ federal law within the meaning of Article III, §2, and is thus constitutionally permissible, even if it does not ‘‘arise under’’ federal law within the meaning of 28 U.S.C. §1331. 0',\n",
       " 'Parties cannot consent to the federal court hearing a case over which it lacks jurisdiction.<n>Even if none of the parties asserts an objection to the court’s power to hear the case, the court will dismiss on its own motion if it appears that there is no jurisdiction over the case. 10. Second thoughts. Taney, from Wisconsin, sues Ivanov, his Wisconsin landlord, for damages suffered when the house he rented from Ivanov collapsed. He alleges that Ivanov was negligent in failing to comply with federal structural standards applicable to buildings offered for rent to tenants subsidized under the Federal Housing Act. Ivanov answers the complaint denying liability, and the parties proceed to engage in discovery. Ten months later, Taney becomes disenchanted with the federal judge assigned to hear the case. Since he has some doubt as to whether his claim meets arising-under standards, he moves to dismiss the suit for lack of subject matter jurisdiction, claiming that the case does not arise under federal law. The motion should be granted, if the court concludes that the case does not satisfy the standard for a case ‘‘arising under’’ federal law. 1',\n",
       " 'Parties cannot consent to the federal court hearing a case over which it lacks jurisdiction.<n>Even if none of the parties asserts an objection to the court’s power to hear the case, the court will dismiss on its own motion if it appears that there is no jurisdiction over the case. 10. Second thoughts. Taney, from Wisconsin, sues Ivanov, his Wisconsin landlord, for damages suffered when the house he rented from Ivanov collapsed. He alleges that Ivanov was negligent in failing to comply with federal structural standards applicable to buildings offered for rent to tenants subsidized under the Federal Housing Act. Ivanov answers the complaint denying liability, and the parties proceed to engage in discovery. Ten months later, Taney becomes disenchanted with the federal judge assigned to hear the case. Since he has some doubt as to whether his claim meets arising-under standards, he moves to dismiss the suit for lack of subject matter jurisdiction, claiming that the case does not arise under federal law. The motion should be denied, because Taney, by filing suit in federal court, waived any objection to the court’s lack of jurisdiction. 0',\n",
       " 'Parties cannot consent to the federal court hearing a case over which it lacks jurisdiction.<n>Even if none of the parties asserts an objection to the court’s power to hear the case, the court will dismiss on its own motion if it appears that there is no jurisdiction over the case. 10. Second thoughts. Taney, from Wisconsin, sues Ivanov, his Wisconsin landlord, for damages suffered when the house he rented from Ivanov collapsed. He alleges that Ivanov was negligent in failing to comply with federal structural standards applicable to buildings offered for rent to tenants subsidized under the Federal Housing Act. Ivanov answers the complaint denying liability, and the parties proceed to engage in discovery. Ten months later, Taney becomes disenchanted with the federal judge assigned to hear the case. Since he has some doubt as to whether his claim meets arising-under standards, he moves to dismiss the suit for lack of subject matter jurisdiction, claiming that the case does not arise under federal law. The motion should be denied, because Taney waived any objection to subject matter jurisdiction by litigating the case for ten months without raising the jurisdictional issue. 0',\n",
       " 'Students always get confused about the relationship between removal to federal court and personal jurisdiction.<n>Federal Rules require the federal court in most cases to conform to state limits on personal jurisdiction. 8. Another switch. Yasuda, from Oregon, sues Boyle, from Idaho, on a state law unfair competition claim, seeking $250,000 in damages. He sues in state court in Oregon. Assume that Oregon follows the special appearance rule, under which the defendant may appear to challenge jurisdiction, but waives the objection if she raises any other issues. Boyle answers the complaint in state court, raising her defenses on the merits and including an objection to personal jurisdiction. Three days later Boyle files a notice of removal in federal court. Five days after removing, Boyle renews her motion to dismiss for lack of personal jurisdiction. Boyle’s motion is not waived by removal. The court should dismiss if there is no personal jurisdiction over Boyle in Oregon, even though the case was properly removed. 0',\n",
       " 'Redstone could file a notice of removal, but if Cianci wants the state forum, he would then move to remand to the state court on the ground that he did not agree to removal.<n>If the defendants don’t agree to federal court, the case will stay in state court. 9. Removal malpractice. Tyrgyz, from New Jersey, sues Dr. Boch, from Maryland and Dr. Ivens, from Delaware in state court in New Jersey, for negligence in an operation. He seeks $120,000 (a supportable amount) in damages, claiming that either Boch or Ivens was the cause of his injuries. Ivens answers the complaint ten days later. Boch files a notice of removal to federal court ten days after Ivens answers. Two months later, Ivens moves to remand the case to state court on the ground that he did not agree to removal. The motion should be granted, because the amount-in-controversy requirement is not met. Tyrgyz seeks $120,000, which only works out to $60,000 each. This objection does not come too late, since objections to subject matter are not covered by the thirty-day limit on most objections to removal. 0',\n",
       " 'Redstone could file a notice of removal, but if Cianci wants the state forum, he would then move to remand to the state court on the ground that he did not agree to removal.<n>If the defendants don’t agree to federal court, the case will stay in state court. 9. Removal malpractice. Tyrgyz, from New Jersey, sues Dr. Boch, from Maryland and Dr. Ivens, from Delaware in state court in New Jersey, for negligence in an operation. He seeks $120,000 (a supportable amount) in damages, claiming that either Boch or Ivens was the cause of his injuries. Ivens answers the complaint ten days later. Boch files a notice of removal to federal court ten days after Ivens answers. Two months later, Ivens moves to remand the case to state court on the ground that he did not agree to removal. The motion should be granted, because Ivens did not join in the notice of removal and removal requires agreement of all the defendants. 0',\n",
       " 'Redstone could file a notice of removal, but if Cianci wants the state forum, he would then move to remand to the state court on the ground that he did not agree to removal.<n>If the defendants don’t agree to federal court, the case will stay in state court. 9. Removal malpractice. Tyrgyz, from New Jersey, sues Dr. Boch, from Maryland and Dr. Ivens, from Delaware in state court in New Jersey, for negligence in an operation. He seeks $120,000 (a supportable amount) in damages, claiming that either Boch or Ivens was the cause of his injuries. Ivens answers the complaint ten days later. Boch files a notice of removal to federal court ten days after Ivens answers. Two months later, Ivens moves to remand the case to state court on the ground that he did not agree to removal. The motion should be denied, because the court has original jurisdiction over the case and Ivens’s objection has been waived. 1',\n",
       " 'This section probes the meaning of so-called stream-of-commerce jurisdiction.<n>The question is whether Snoflake’s sale of the product to the wholesaler in Oregon, with the hope and expectation that it would be resold to consumers in other states, establishes a sufficient contact with the final purchaser’s state to support personal jurisdiction where Wakimoto buys and uses it and is injured by it. 9. Between two extremes. Atlanta Precision Drill Corporation makes drill presses in Georgia. It sells them to several wholesale distributors, including Emporia Distributors in Pennsylvania. It sells about five hundred drill presses a year to Emporia. Emporia resells in ten states, including Maryland, where it typically resells about one hundred presses a year. It sells one of them to Modern Tool and Die Co. in Annapolis, Maryland. A local machine shop buys one from Modern, and Edwards, an employee, is injured using it in Annapolis. He sues Atlanta Precision in state court in Maryland for his injuries. Atlanta Precision has no other contacts in Maryland. After the J. McIntyre decision the Maryland court will probably conclude that it Glannon doesn’t have any idea whether the Court would find personal jurisdiction proper on these facts, so why should I? 0',\n",
       " 'Let’s consider one more example that concerns the relation between minimum contacts and litigation convenience.<n>Let’s consider one more example that concerns the relation between minimum contacts and litigation convenience. 10. Cold, cruel world. Mary Smith, a divorced, working-class woman of fifty-five, lives in Massachusetts. She doesn’t have enough money to travel ordinarily but saved her pennies to attend her daughter’s wedding in California. While there, she rented a car to get to the ceremony and had an accident with an Exxon Mobil oil truck. Exxon Mobil, a huge multinational corporation, does business in all states and has a large corporate office in Massachusetts. After Mary returns to Massachusetts, Exxon Mobil sues her in a California state court for the damage to its truck. Mary will not be subject to personal jurisdiction in the California action, because she was only in California for a few days. 0',\n",
       " 'Let’s consider one more example that concerns the relation between minimum contacts and litigation convenience.<n>Let’s consider one more example that concerns the relation between minimum contacts and litigation convenience. 10. Cold, cruel world. Mary Smith, a divorced, working-class woman of fifty-five, lives in Massachusetts. She doesn’t have enough money to travel ordinarily but saved her pennies to attend her daughter’s wedding in California. While there, she rented a car to get to the ceremony and had an accident with an Exxon Mobil oil truck. Exxon Mobil, a huge multinational corporation, does business in all states and has a large corporate office in Massachusetts. After Mary returns to Massachusetts, Exxon Mobil sues her in a California state court for the damage to its truck. Mary will not be subject to personal jurisdiction in the California action, because it would greatly inconvenience Mary, a woman of limited means, to defend the case in California. 0',\n",
       " 'Let’s consider one more example that concerns the relation between minimum contacts and litigation convenience.<n>Let’s consider one more example that concerns the relation between minimum contacts and litigation convenience. 10. Cold, cruel world. Mary Smith, a divorced, working-class woman of fifty-five, lives in Massachusetts. She doesn’t have enough money to travel ordinarily but saved her pennies to attend her daughter’s wedding in California. While there, she rented a car to get to the ceremony and had an accident with an Exxon Mobil oil truck. Exxon Mobil, a huge multinational corporation, does business in all states and has a large corporate office in Massachusetts. After Mary returns to Massachusetts, Exxon Mobil sues her in a California state court for the damage to its truck. Mary has minimum contacts with California that gave rise to the claim, but it would not be reasonable to force her to defend the action in California, given Exxon Mobil’s ample resources to bring suit in Massachusetts. 0',\n",
       " 'attachment jurisdiction was widely invoked to support jurisdiction over unrelated claims.<n>It was routinely used to attach intangible assets, such as bank deposits.<n>This expanded the doctrine beyond its traditional roots. 6. Shaffer survivors? In which of the following cases could the court properly assert jurisdiction, after the Supreme Court’s decision in Shaffer v. Heitner? Ohora is injured when she falls in a hole while crossing the lawn in front of Roux’s summer house in Nebraska. She sues Roux in Nebraska for her injuries and asserts jurisdiction by obtaining a writ of attachment on the property on which she was injured. 0',\n",
       " 'attachment jurisdiction was widely invoked to support jurisdiction over unrelated claims.<n>It was routinely used to attach intangible assets, such as bank deposits.<n>This expanded the doctrine beyond its traditional roots. 6. Shaffer survivors? In which of the following cases could the court properly assert jurisdiction, after the Supreme Court’s decision in Shaffer v. Heitner? Ohora brings an action to quiet title to her Nebraska farm in a Nebraska court. She gives notice of the action by mail to Roux, who lives in New York but claims a one-third interest in the farm inherited from a great aunt. She also gives notice by publication to unknown claimants to the property. 0',\n",
       " 'attachment jurisdiction was widely invoked to support jurisdiction over unrelated claims.<n>It was routinely used to attach intangible assets, such as bank deposits.<n>This expanded the doctrine beyond its traditional roots. 6. Shaffer survivors? In which of the following cases could the court properly assert jurisdiction, after the Supreme Court’s decision in Shaffer v. Heitner? Consolidated Equipment Company sells Roux a construction crane in Iowa, on an installment contract, subject to a right of repossession for nonpayment. Roux fails to pay. Consolidated brings an action in Nebraska to obtain clear title to the crane, and obtains a writ from the court attaching the crane while present on a job in Nebraska. 0',\n",
       " 'The constitutional limits on a state court’s power to exercise jurisdiction are rooted in the Fourteenth Amendment’s Due Process Clause.<n>The Fifth Amendment contains a similar due process clause that does apply to the federal government and its courts. 6. Dueling amendments. Argo, from Arizona, sues Jason, from New Mexico, in an Arizona state court on a breach-of-contract claim, arising from Jason’s alleged failure to complete a landscaping job in New Mexico. Jason removes the action to federal court, based on diversity jurisdiction. Jason then moves to dismiss the action for lack of personal jurisdiction. The federal court should deny the motion if exercising jurisdiction over Jason would be constitutional under Fourteenth Amendment analysis. 0',\n",
       " 'The constitutional limits on a state court’s power to exercise jurisdiction are rooted in the Fourteenth Amendment’s Due Process Clause.<n>The Fifth Amendment contains a similar due process clause that does apply to the federal government and its courts. 6. Dueling amendments. Argo, from Arizona, sues Jason, from New Mexico, in an Arizona state court on a breach-of-contract claim, arising from Jason’s alleged failure to complete a landscaping job in New Mexico. Jason removes the action to federal court, based on diversity jurisdiction. Jason then moves to dismiss the action for lack of personal jurisdiction. The federal court should deny the motion, because a federal court has the constitutional power to hear claims against a defendant who has contacts anywhere in the United States. 0',\n",
       " 'The constitutional limits on a state court’s power to exercise jurisdiction are rooted in the Fourteenth Amendment’s Due Process Clause.<n>The Fifth Amendment contains a similar due process clause that does apply to the federal government and its courts. 6. Dueling amendments. Argo, from Arizona, sues Jason, from New Mexico, in an Arizona state court on a breach-of-contract claim, arising from Jason’s alleged failure to complete a landscaping job in New Mexico. Jason removes the action to federal court, based on diversity jurisdiction. Jason then moves to dismiss the action for lack of personal jurisdiction. The federal court should deny the motion, because Jason waived his objection to personal jurisdiction by removing to federal court. 0',\n",
       " 'The defendant has several options in challenging the jurisdiction of the rendering court.<n>She may challenge it at the outset of the action, by special appearance or an objection in the rendering court.<n>Or, if she’s a risk taker, she can ignore the action in the rendering court and resist enforcement of the resulting default judgment when the plaintiff tries to enforce it in another state. 7. If at first you don’t succeed. . . . Ervin sues Ito, from Acadia, for fraud in a sale of stock. He brings the action in an Emporia court. Ito appears specially in the Emporia court to argue that the Emporia court lacks personal jurisdiction over him for Ervin’s claim. The court holds a hearing on Ito’s objection and rules that he is subject to jurisdiction in Emporia for the claim. Ito, unconvinced, defaults, and the court enters a default judgment for Ervin. Ervin now brings suit in Acadia, seeking a judgment on the Emporia judgment. Ito appears, and raises the defense that the Emporia court lacked personal jurisdiction over him for Ervin’s claim. The court will not determine whether Ito was subject to jurisdiction in Emporia, but Ito will be able to take an appeal on that issue in Acadia, since he defaulted on the merits in the Emporia trial court. 0',\n",
       " 'The defendant has several options in challenging the jurisdiction of the rendering court.<n>She may challenge it at the outset of the action, by special appearance or an objection in the rendering court.<n>Or, if she’s a risk taker, she can ignore the action in the rendering court and resist enforcement of the resulting default judgment when the plaintiff tries to enforce it in another state. 7. If at first you don’t succeed. . . . Ervin sues Ito, from Acadia, for fraud in a sale of stock. He brings the action in an Emporia court. Ito appears specially in the Emporia court to argue that the Emporia court lacks personal jurisdiction over him for Ervin’s claim. The court holds a hearing on Ito’s objection and rules that he is subject to jurisdiction in Emporia for the claim. Ito, unconvinced, defaults, and the court enters a default judgment for Ervin. Ervin now brings suit in Acadia, seeking a judgment on the Emporia judgment. Ito appears, and raises the defense that the Emporia court lacked personal jurisdiction over him for Ervin’s claim. The court will enforce the judgment without allowing Ito to relitigate the jurisdictional defense. 1',\n",
       " 'The defendant has several options in challenging the jurisdiction of the rendering court.<n>She may challenge it at the outset of the action, by special appearance or an objection in the rendering court.<n>Or, if she’s a risk taker, she can ignore the action in the rendering court and resist enforcement of the resulting default judgment when the plaintiff tries to enforce it in another state. 7. If at first you don’t succeed. . . . Ervin sues Ito, from Acadia, for fraud in a sale of stock. He brings the action in an Emporia court. Ito appears specially in the Emporia court to argue that the Emporia court lacks personal jurisdiction over him for Ervin’s claim. The court holds a hearing on Ito’s objection and rules that he is subject to jurisdiction in Emporia for the claim. Ito, unconvinced, defaults, and the court enters a default judgment for Ervin. Ervin now brings suit in Acadia, seeking a judgment on the Emporia judgment. Ito appears, and raises the defense that the Emporia court lacked personal jurisdiction over him for Ervin’s claim. The court will consider whether Ito was subject to jurisdiction in Emporia, because Ito made a proper special appearance in Emporia and defaulted on the merits in the Emporia action. 0',\n",
       " 'Rule 4 provides a method for a defendant to waive compliance with formal service requirements.<n>A request for waiver must be addressed to the defendant (or, for a corporate defendant, an appropriate officer or managing agent or other agent authorized to receive process) 8. Technical fouls. Eban brings suit against Lorenzo for interference with business relations. Eban’s lawyer, Darrow, calls Lorenzo’s lawyer, Sadecki, and tells her that he is filing suit that afternoon. In which of the following scenarios may the case proceed without formal service of process? Darrow files the complaint and mails a copy of it by first class mail to Lorenzo with two copies of a proper request for waiver. He files an affidavit with the court attesting to those acts. 0',\n",
       " 'Rule 4 provides a method for a defendant to waive compliance with formal service requirements.<n>A request for waiver must be addressed to the defendant (or, for a corporate defendant, an appropriate officer or managing agent or other agent authorized to receive process) 8. Technical fouls. Eban brings suit against Lorenzo for interference with business relations. Eban’s lawyer, Darrow, calls Lorenzo’s lawyer, Sadecki, and tells her that he is filing suit that afternoon. In which of the following scenarios may the case proceed without formal service of process? Darrow files the complaint and mails a copy of it by certified mail to Lorenzo with two copies of a proper request for waiver. He does not send a summons, signed and sealed by the court, with the waiver request. He receives the signed waiver form back and files it with the court. 1',\n",
       " 'Rule 4 provides a method for a defendant to waive compliance with formal service requirements.<n>A request for waiver must be addressed to the defendant (or, for a corporate defendant, an appropriate officer or managing agent or other agent authorized to receive process) 8. Technical fouls. Eban brings suit against Lorenzo for interference with business relations. Eban’s lawyer, Darrow, calls Lorenzo’s lawyer, Sadecki, and tells her that he is filing suit that afternoon. In which of the following scenarios may the case proceed without formal service of process? Darrow files the complaint and mails a copy of it by certified mail to Lorenzo with two copies of a proper request for waiver. He receives the green postal receipt back in the mail. Darrow files the postal receipt with the court. 0',\n",
       " 'This Closer introduces no new material; it just provides a question that requires you to apply the various concepts covered in the chapter, including the separate requirement of personal jurisdiction. 9. Problems, problems. Preferred Metalworks, Inc. is incorporated in Delaware and has its principal place of business in Kentucky. It also has a factory in Ohio, where Stamski worked. One day Donitz, president of Preferred, called Stamski into his office at the Ohio plant and fired him. Stamski sues Preferred and Donitz in federal court for breach of contract. In which of the following situations is service of process proper on both defendants and is personal jurisdiction proper over both defendants? Stamski serves process by mailing a summons, addressed to Preferred Metalworks, Inc., and a copy of the complaint to Donitz by first class mail, at his home in Indiana. The Ohio service of process statute authorizes service on any defendant by first class mail and authorizes sending the summons and complaint to a corporate officer if the defendant is a corporation. 0']"
      ]
     },
     "execution_count": 28,
     "metadata": {},
     "output_type": "execute_result"
    }
   ],
   "source": [
    "prompts"
   ]
  },
  {
   "cell_type": "code",
   "execution_count": 12,
   "metadata": {},
   "outputs": [
    {
     "name": "stderr",
     "output_type": "stream",
     "text": [
      "The attention mask and the pad token id were not set. As a consequence, you may observe unexpected behavior. Please pass your input's `attention_mask` to obtain reliable results.\n",
      "Setting `pad_token_id` to `eos_token_id`:50256 for open-end generation.\n"
     ]
    },
    {
     "name": "stdout",
     "output_type": "stream",
     "text": [
      "a party who sues a defendant on a claim within the limitations period may change theories add new damages or recast the factual basis of the claimnthe amended allegations will  relate backtmtm to the date the original complaint was filed 7 black and white williams is roughed up during an arrest by a police officer and suffers a broken wrist that doesnt heal right williams consults darrow a lawyer who brings a federal civil rights action for his injury darrow obtains the police report of the arrest which lists officer black as the arresting officer darrow names black as the defendant suit is filed one month before the limitations period runs in fact it wasnt black who arrested williams it was officer white the report filled out by the booking officer was simply mistaken within a few days every officer in the precinct including white became aware that black had been sued by an arrestee for excessive force though they were not aware of the specific circumstances of the case or the identity of the plaintiff six months later black answers interrogatories sent to him by williams denying that he was the arresting officer darrow investigates confirms from other witnesses that white was the arresting officer and moves to amend to name white as the defendant in the action the amendment if allowed will likely relate back because white was aware before the passage of the limitations period that black had been sued 0\tThe Rules of Civil Procedure require a party to change the facts of a case’s case in order to recover for damages.<n>The Rule requires a plaintiff to make a change in her position within twenty-one days after filing a complaint.<c>A change is not a new allegation, but a motion for a different answer. 6. The facts. Black and White. Darrow suces Black for injuries suffered in an accident with a cop. He sulls Black in federal court, based on diversity jurisdiction, for $50,000 in damages. After Black‘s complaint is served, Daimler�\n",
      "The rules of civil procedure require an officer to add a ‘“substantially new�>substantial>‡�06‖‒ to a suit for compensatory damages, to avoid a default on the judgment. 1\tA party is a person who has been subject to arrest or investigation for the past twenty years, and has not been disciplined or disciplined for that conduct.�n―�5�q<n<a>Rule 26(b)(1) requires parties to file a notice of removal of an alleged �\n"
     ]
    }
   ],
   "source": [
    "\n",
    "# Text generation\n",
    "context = \"\"\"There are some subtle problems in the amendment area. So we have a pre-closer and a closer. A party who sues a defendant on a claim within the limitations period may change theories, add new damages, or recast the factual basis of the claim through amendments, assuming that the amended allegations still are based on the same underlying facts, and that the judge allows the amendment. The amended allegations will â€˜â€˜relate backâ€™â€™ to the date the original complaint was filed. If the claim asserted in the amended complaint would have been timely on that date, Rule 15(c)(1)(B) avoids any limitations problem. But suppose the amendment adds a new defendant to the case? Rule 15 has a separate, more abstruse provision, Rule 15(c)(1)(C), that deals with this twist. As an example, assume that Leroy sues Tele-Sell, a telemarketing firm, under a statute barring telemarketing calls to consumers who have placed their names on a state do-not-call list. After he sues, the limitations period passes. Several months later, he learns that he was mistaken, that the calls actually came from Tel-Connect, a different firm. Consequently, he moves to amend to substitute Tel- Connect as the defendant. Allowing relation back for an amendment like this, adding a new party, requires a more stringent standard than others, because the new claim is against a different defendant, who was not sued before the limitations period expired. Under Rule 15(c)(1)(C) three requirements must be met before an amendment changing the party against whom a claim is asserted will â€˜â€˜relate backâ€™â€™ to the date the original complaint was filed. â€¢ First, the amended pleading must arise out of the same events as the original pleading. Rule 15(c)(1)(C). â€¢ Second, the defendant being added must have â€˜â€˜received such notice of the action that it will not be prejudiced in defending on the merits.â€™â€™ Rule 15(c)(1)(C)(i). This notice must have been received within the period of time it would have been received had the new defendant been sued originally. â€¢ Third, the plaintiff must show that the new defendant brought in by the amendment â€˜â€˜knew or should have known that the action would have been brought against it, but for a mistake concerning the proper partyâ€™s identity.â€™â€™ Rule 15(c)(1)(C)(ii). The first requirement is met in Leroyâ€™s case. He is suing Tel-Connect for the same harassing calls that were the basis of his initial suit against Tele-Sell. But Rule 15(c)(1) requires more than that. It also requires that Tel-Connect was aware, within the period for suing and serving the complaint on Tele-Sell, that the suit had been brought, and that itâ€”Tel- Connectâ€”was actually the intended target of the suit. Whatâ€™s the point of this complex provision? It is meant to ensure that Tel-Connect, the party Leroy brings in late, had actual notice within the limitations period (plus the additional 90 days that Fed. R. Civ. P. 4(m) gives for serving the complaint2) that Leroy intended to sue it. If it had such notice, the purpose of the limitations period has been satisfied: The added defendant was aware of the need to preserve evidence and prepare a defense, within the limitations period prescribed by the legislature. Perhaps the following question will help to sort out the requirements of Rule 15(c)(1)(C).\n",
    "™\"\"\"\n",
    "question = \"\"\"7. Black and White. Williams is roughed up during an arrest by a police officer and suffers a broken wrist that doesnâ€™t heal right. Williams consults Darrow, a lawyer, who brings a federal civil rights action for his injury. Darrow obtains the police report of the arrest, which lists Officer Black as the arresting officer. Darrow names Black as the defendant. Suit is filed one month before the limitations period runs. In fact, it wasnâ€™t Black who arrested Williams, it was Officer White. The report, filled out by the booking officer, was simply mistaken. Within a few days, every officer in the precinct, including White, became aware that Black had been sued by an arrestee for excessive force, though they were not aware of the specific circumstances of the case or the identity of the plaintiff. Six months later, Black answers interrogatories sent to him by Williams, denying that he was the arresting officer. Darrow investigates, confirms from other witnesses that White was the arresting officer, and moves to amend to name White as the defendant in the action. The amendment, if allowed, will likely\"\"\"\n",
    "answer = \"\"\"relate back, because White was aware, before the passage of the limitations period, that Black had been sued.\"\"\"\n",
    "label = \"0\"\n",
    "prompt = generate_summary(context, model_sum, tokenizer_sum, device_sum) + \" \" + question + \" \" + answer + \" \" + label\n",
    "input_ids = tokenizer.encode(filter_text(prompt), return_tensors=\"pt\")\n",
    "output = model.generate(input_ids, max_length=512, num_return_sequences=1, no_repeat_ngram_size=2, top_k=50)\n",
    "generated_text = tokenizer.decode(output[0], skip_special_tokens=True)\n",
    "print(generated_text)"
   ]
  },
  {
   "cell_type": "code",
   "execution_count": 29,
   "metadata": {},
   "outputs": [
    {
     "name": "stderr",
     "output_type": "stream",
     "text": [
      "The attention mask and the pad token id were not set. As a consequence, you may observe unexpected behavior. Please pass your input's `attention_mask` to obtain reliable results.\n",
      "Setting `pad_token_id` to `eos_token_id`:50256 for open-end generation.\n",
      "The attention mask and the pad token id were not set. As a consequence, you may observe unexpected behavior. Please pass your input's `attention_mask` to obtain reliable results.\n",
      "Setting `pad_token_id` to `eos_token_id`:50256 for open-end generation.\n"
     ]
    },
    {
     "name": "stdout",
     "output_type": "stream",
     "text": [
      "When a plaintiff files suit in a district that is proper under the venue statute, the court may hear the case.<n>A striking virtue of section 1406(a) is that it allows a court to save a plaintiff’s cause of action if she files in the wrong venue. 7. A venue medley. Zirkhov brings a diversity action against Pardee, a truck driver from Ohio, and Lugo Enterprises, his employer, for injuries in an accident that took place in the Western District of Kentucky. He files the action in the federal district court for the Northern District of Illinois, where Lugo’s principal place of business is located. Pardee, who lives in Ohio, moves to dismiss the action for improper venue. The court must transfer the action to the Western District of Kentucky under 28 U.S.C. §1406(a), since it is a proper venue. 0\tA venue Medley is one of the many privileges that a defendant has in her home state of residence. It allows her to bring suit there, if the plaintiff has a place to live, or if her place is within the jurisdiction of a state court. 1. Places of work. Lugovits, from Pennsylvania, sues Pardi, an Ohio citizen, in federal court in Erie, Pennsylvania. She alleges that Pari‘s car was involved in another accident in Pennsylvania that injured her. In her complaint, she alleges a claim for $50,000 in damages, including punitive damages for her injuries. After the suit is filed, Psona�>s lawyer files a motion for summary judgment on the claim. At the close of her motion, however, Lugar�.s counsel moves for a new trial, arguing that the trial judge should grant the motion because the evidence shows that Lugtovit�)s negligence was a contributory factor in causing the accident. If the judge grants the new motion under Fed. R. Civ. p. 1404(b)(1), the judgment for Poner will be entered on January 1, 2019. (The court will have to order the dismissal of Pager�, since she has not filed a complaint in that court.) 0B is wrong, because it suggests that, under §1306, venue is not a right. \n",
      "A court can hear a case in which a person�\n",
      "\n",
      "a. files action, but does not litigate it.<a>The question is whether the defendant�s action is properly\n"
     ]
    },
    {
     "name": "stderr",
     "output_type": "stream",
     "text": [
      "The attention mask and the pad token id were not set. As a consequence, you may observe unexpected behavior. Please pass your input's `attention_mask` to obtain reliable results.\n",
      "Setting `pad_token_id` to `eos_token_id`:50256 for open-end generation.\n"
     ]
    },
    {
     "name": "stdout",
     "output_type": "stream",
     "text": [
      "When a plaintiff files suit in a district that is proper under the venue statute, the court may hear the case.<n>A striking virtue of section 1406(a) is that it allows a court to save a plaintiff’s cause of action if she files in the wrong venue. 7. A venue medley. Zirkhov brings a diversity action against Pardee, a truck driver from Ohio, and Lugo Enterprises, his employer, for injuries in an accident that took place in the Western District of Kentucky. He files the action in the federal district court for the Northern District of Illinois, where Lugo’s principal place of business is located. Pardee, who lives in Ohio, moves to dismiss the action for improper venue. The court will have to dismiss, since 28 U.S.C. §1406(a) only allows transfer to a district in which the case might have been brought. 0\tA venue Medley is a venue that allows the plaintiff to bring a claim in federal court.<a>The court should not allow a defendant to transfer from one district to another, because the defendant‘s venue is the same as the district where the claim is filed. 6. Suit on the fly. Lugout sues Pardi, an Ohio trucking company, in state court in Illinois for damages in his accident. In his answer, he states that he was injured in Indiana, but that his truck was not involved in any accident in that state. After the suit is brought, Pottie�>s counsel files a motion for summary judgment on his claim. It is not allowed. Later, after the judgment is entered, Lugin�.s lawyer files an answer to the motion, denying that Potardi was negligent in causing the accident, that the negligence claim was filed in Pennsylvania, or that Lugon�)s negligence was properly filed there. At the close of the answer the judge will probably grant summary dismissal, even if the state judge had not heard the complaint. 1\tThe venue law is very different from the Federal Rules of Civil Procedure.<b>In the United States, venue rules are based on diversity jurisdiction.<c>Section 1404(b) allows for a federal judge to hear a case in one state, not in several. 4. Better late than never? Lugnoyer suces Potti, from Pennsylvania. She files her complaint in Delaware, which has a separate venue for her claim, under 28 C.F.R. Part\n",
      "When a plaintiff files suit in a district that is proper under the venue statute, the court may hear the case.<n>A striking virtue of section 1406(a) is that it allows a court to save a plaintiff’s cause of action if she files in the wrong venue. 7. A venue medley. Zirkhov brings a diversity action against Pardee, a truck driver from Ohio, and Lugo Enterprises, his employer, for injuries in an accident that took place in the Western District of Kentucky. He files the action in the federal district court for the Northern District of Illinois, where Lugo’s principal place of business is located. Pardee, who lives in Ohio, moves to dismiss the action for improper venue. The court could transfer the action under 28 U.S.C. §1404(a) if doing so would be in the interest of justice. 0\tA venue Medley is a venue that allows the plaintiff to bring a claim in federal court.<a>The court will probably hear a case in which the defendant is not present, but the judge or jury‘s verdict is in favor of the party. 6. Suit on the fly. Lugout sues Pardi, an Ohio trucking company, in state court in Illinois for damages for an injury he suffered in driving a pickup truck that Lugtrio�)s truck was involved in in another accident with P. In the first action, P�>t‖s counsel asserts a defense that the truck involved was a commercial truck, not a state truck. Under 28.1(b)(1), the state�\n",
      "\n",
      "A suit on a fly.<b>In the second action the counsel�.“s client asserts an objection to the motion, that she believes that a federal statute requires a defendant to file a motion in support of a particular claim, based on diversity jurisdiction. 1\tThe suit will likely be brought in this state. It is the only state in that state that has a statute that authorizes the filing of suit for diversity purposes. 3. Late fees. Daimler sulles Lugin, from Illinois. She alleges that Pottrell, another trucker from the same state, negligently drove a different truck into his car while he was driving to a job fair in Michigan. After the accident, Darrow, Lugnout�, is injured in his truck and suffers serious injuries. His lawyer files a complaint in Federal District Court in Indiana, seeking\n"
     ]
    }
   ],
   "source": [
    "for i in range(3):\n",
    "    input_ids = tokenizer.encode(prompts[i], return_tensors=\"pt\")\n",
    "    output = model.generate(input_ids, max_length=512, num_return_sequences=1, no_repeat_ngram_size=2, top_k=50)\n",
    "    generated_text = tokenizer.decode(output[0], skip_special_tokens=True)\n",
    "    print(generated_text)"
   ]
  },
  {
   "cell_type": "code",
   "execution_count": null,
   "metadata": {},
   "outputs": [],
   "source": [
    "prompts[3]"
   ]
  }
 ],
 "metadata": {
  "kernelspec": {
   "display_name": "Python 3 (ipykernel)",
   "language": "python",
   "name": "python3"
  },
  "language_info": {
   "codemirror_mode": {
    "name": "ipython",
    "version": 3
   },
   "file_extension": ".py",
   "mimetype": "text/x-python",
   "name": "python",
   "nbconvert_exporter": "python",
   "pygments_lexer": "ipython3",
   "version": "3.11.4"
  }
 },
 "nbformat": 4,
 "nbformat_minor": 4
}
